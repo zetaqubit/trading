{
  "cells": [
    {
      "cell_type": "markdown",
      "metadata": {
        "colab_type": "text",
        "id": "JxYUXM_OnIiA"
      },
      "source": [
        "# Description\n",
        "\n",
        "A simple model to predict a stock's price given its recent price history.\n",
        "\n",
        "\n",
        "# Versions\n",
        "## v1\n",
        "- Context window: 8 days price history\n",
        "- Linear model predicts next day price\n",
        "- L2 loss\n",
        "- Naive strategy of holding stock iff predicted price for day went up\n",
        "- Table comparing return vs baselines: always hold, and mean price predictor"
      ]
    },
    {
      "cell_type": "code",
      "execution_count": 1,
      "metadata": {
        "colab": {},
        "colab_type": "code",
        "id": "gjPhwU4sTXAk"
      },
      "outputs": [],
      "source": [
        "from matplotlib import pyplot as plt\n",
        "\n",
        "%matplotlib inline\n",
        "\n",
        "import pandas as pd\n",
        "import torch as th\n",
        "import numpy as np\n",
        "\n",
        "plt.rcParams.update({\n",
        "    \"lines.color\": \"white\",\n",
        "    \"patch.edgecolor\": \"white\",\n",
        "    \"text.color\": \"black\",\n",
        "    \"axes.facecolor\": \"white\",\n",
        "    \"axes.edgecolor\": \"lightgray\",\n",
        "    \"axes.labelcolor\": \"white\",\n",
        "    \"xtick.color\": \"white\",\n",
        "    \"ytick.color\": \"white\",\n",
        "    \"grid.color\": \"lightgray\",\n",
        "    \"figure.facecolor\": \"black\",\n",
        "    \"figure.edgecolor\": \"black\",\n",
        "    \"savefig.facecolor\": \"black\",\n",
        "    \"savefig.edgecolor\": \"black\"})"
      ]
    },
    {
      "cell_type": "markdown",
      "metadata": {
        "colab_type": "text",
        "id": "QI-drLqv3_Dy"
      },
      "source": [
        "# Dataset"
      ]
    },
    {
      "cell_type": "code",
      "execution_count": 2,
      "metadata": {
        "colab": {},
        "colab_type": "code",
        "id": "Ov_fnPOBTXAp"
      },
      "outputs": [],
      "source": [
        "from dataclasses import dataclass\n",
        "\n",
        "batch_size = 128\n",
        "hist_win = 8\n",
        "pred_win = 1\n",
        "\n",
        "@dataclass\n",
        "class DateRange:\n",
        "  \"\"\"Specifies a range of dates, using [start, end).\"\"\"\n",
        "  start: str = None\n",
        "  end: str = None\n",
        "\n",
        "train_date_range = DateRange('2003-01-01', '2017-01-01')\n",
        "eval_date_range = DateRange('2017-01-01', '2020-01-01')"
      ]
    },
    {
      "cell_type": "code",
      "execution_count": 3,
      "metadata": {
        "colab": {
          "base_uri": "https://localhost:8080/",
          "height": 348
        },
        "colab_type": "code",
        "id": "LZ_5pbU3TXAr",
        "outputId": "3d3f571b-b84a-479a-bc3d-0bf7daaa32f3"
      },
      "outputs": [
        {
          "data": {
            "text/html": [
              "<div>\n",
              "<style scoped>\n",
              "    .dataframe tbody tr th:only-of-type {\n",
              "        vertical-align: middle;\n",
              "    }\n",
              "\n",
              "    .dataframe tbody tr th {\n",
              "        vertical-align: top;\n",
              "    }\n",
              "\n",
              "    .dataframe thead th {\n",
              "        text-align: right;\n",
              "    }\n",
              "</style>\n",
              "<table border=\"1\" class=\"dataframe\">\n",
              "  <thead>\n",
              "    <tr style=\"text-align: right;\">\n",
              "      <th></th>\n",
              "      <th>date</th>\n",
              "      <th>volume</th>\n",
              "      <th>open</th>\n",
              "      <th>high</th>\n",
              "      <th>low</th>\n",
              "      <th>close</th>\n",
              "      <th>adjclose</th>\n",
              "    </tr>\n",
              "  </thead>\n",
              "  <tbody>\n",
              "    <tr>\n",
              "      <th>0</th>\n",
              "      <td>2004-08-19</td>\n",
              "      <td>44871300</td>\n",
              "      <td>49.813286</td>\n",
              "      <td>51.835709</td>\n",
              "      <td>47.800831</td>\n",
              "      <td>49.982655</td>\n",
              "      <td>49.982655</td>\n",
              "    </tr>\n",
              "    <tr>\n",
              "      <th>1</th>\n",
              "      <td>2004-08-20</td>\n",
              "      <td>22942800</td>\n",
              "      <td>50.316402</td>\n",
              "      <td>54.336334</td>\n",
              "      <td>50.062355</td>\n",
              "      <td>53.952770</td>\n",
              "      <td>53.952770</td>\n",
              "    </tr>\n",
              "    <tr>\n",
              "      <th>2</th>\n",
              "      <td>2004-08-23</td>\n",
              "      <td>18342800</td>\n",
              "      <td>55.168217</td>\n",
              "      <td>56.528118</td>\n",
              "      <td>54.321388</td>\n",
              "      <td>54.495735</td>\n",
              "      <td>54.495735</td>\n",
              "    </tr>\n",
              "    <tr>\n",
              "      <th>3</th>\n",
              "      <td>2004-08-24</td>\n",
              "      <td>15319700</td>\n",
              "      <td>55.412300</td>\n",
              "      <td>55.591629</td>\n",
              "      <td>51.591621</td>\n",
              "      <td>52.239193</td>\n",
              "      <td>52.239193</td>\n",
              "    </tr>\n",
              "    <tr>\n",
              "      <th>4</th>\n",
              "      <td>2004-08-25</td>\n",
              "      <td>9232100</td>\n",
              "      <td>52.284027</td>\n",
              "      <td>53.798351</td>\n",
              "      <td>51.746044</td>\n",
              "      <td>52.802086</td>\n",
              "      <td>52.802086</td>\n",
              "    </tr>\n",
              "    <tr>\n",
              "      <th>5</th>\n",
              "      <td>2004-08-26</td>\n",
              "      <td>7128600</td>\n",
              "      <td>52.279045</td>\n",
              "      <td>53.773445</td>\n",
              "      <td>52.134586</td>\n",
              "      <td>53.753517</td>\n",
              "      <td>53.753517</td>\n",
              "    </tr>\n",
              "    <tr>\n",
              "      <th>6</th>\n",
              "      <td>2004-08-27</td>\n",
              "      <td>6241200</td>\n",
              "      <td>53.848164</td>\n",
              "      <td>54.107193</td>\n",
              "      <td>52.647663</td>\n",
              "      <td>52.876804</td>\n",
              "      <td>52.876804</td>\n",
              "    </tr>\n",
              "    <tr>\n",
              "      <th>7</th>\n",
              "      <td>2004-08-30</td>\n",
              "      <td>5221400</td>\n",
              "      <td>52.443428</td>\n",
              "      <td>52.548038</td>\n",
              "      <td>50.814533</td>\n",
              "      <td>50.814533</td>\n",
              "      <td>50.814533</td>\n",
              "    </tr>\n",
              "    <tr>\n",
              "      <th>8</th>\n",
              "      <td>2004-08-31</td>\n",
              "      <td>4941200</td>\n",
              "      <td>50.958992</td>\n",
              "      <td>51.661362</td>\n",
              "      <td>50.889256</td>\n",
              "      <td>50.993862</td>\n",
              "      <td>50.993862</td>\n",
              "    </tr>\n",
              "    <tr>\n",
              "      <th>9</th>\n",
              "      <td>2004-09-01</td>\n",
              "      <td>9181600</td>\n",
              "      <td>51.158245</td>\n",
              "      <td>51.292744</td>\n",
              "      <td>49.648903</td>\n",
              "      <td>49.937820</td>\n",
              "      <td>49.937820</td>\n",
              "    </tr>\n",
              "  </tbody>\n",
              "</table>\n",
              "</div>"
            ],
            "text/plain": [
              "        date    volume       open       high        low      close   adjclose\n",
              "0 2004-08-19  44871300  49.813286  51.835709  47.800831  49.982655  49.982655\n",
              "1 2004-08-20  22942800  50.316402  54.336334  50.062355  53.952770  53.952770\n",
              "2 2004-08-23  18342800  55.168217  56.528118  54.321388  54.495735  54.495735\n",
              "3 2004-08-24  15319700  55.412300  55.591629  51.591621  52.239193  52.239193\n",
              "4 2004-08-25   9232100  52.284027  53.798351  51.746044  52.802086  52.802086\n",
              "5 2004-08-26   7128600  52.279045  53.773445  52.134586  53.753517  53.753517\n",
              "6 2004-08-27   6241200  53.848164  54.107193  52.647663  52.876804  52.876804\n",
              "7 2004-08-30   5221400  52.443428  52.548038  50.814533  50.814533  50.814533\n",
              "8 2004-08-31   4941200  50.958992  51.661362  50.889256  50.993862  50.993862\n",
              "9 2004-09-01   9181600  51.158245  51.292744  49.648903  49.937820  49.937820"
            ]
          },
          "execution_count": 3,
          "metadata": {},
          "output_type": "execute_result"
        }
      ],
      "source": [
        "def load_df(ticker, date_range: DateRange):\n",
        "  \"\"\"Loads the DataFrame for ticker between [start_date, end_date).\"\"\"\n",
        "  df = pd.read_csv(f'~/data/zetaqubit/trading/kaggle/full_history/{ticker}.csv')\n",
        "  df['date'] = pd.to_datetime(df['date'])\n",
        "  if date_range.start:\n",
        "    df = df.query(f'date >= \"{date_range.start}\"')\n",
        "  if date_range.end:\n",
        "    df = df.query(f'date < \"{date_range.end}\"')\n",
        "  # reverse so oldest is first\n",
        "  df = df.iloc[::-1].reset_index(drop=True)\n",
        "  return df\n",
        "\n",
        "df = load_df('GOOG', train_date_range)\n",
        "df.head(10)"
      ]
    },
    {
      "cell_type": "code",
      "execution_count": 4,
      "metadata": {
        "colab": {
          "base_uri": "https://localhost:8080/",
          "height": 521
        },
        "colab_type": "code",
        "id": "2uVfcDoOtBJI",
        "outputId": "42797cd0-e814-4162-b458-7d9fce6304de"
      },
      "outputs": [
        {
          "data": {
            "text/html": [
              "<div>\n",
              "<style scoped>\n",
              "    .dataframe tbody tr th:only-of-type {\n",
              "        vertical-align: middle;\n",
              "    }\n",
              "\n",
              "    .dataframe tbody tr th {\n",
              "        vertical-align: top;\n",
              "    }\n",
              "\n",
              "    .dataframe thead th {\n",
              "        text-align: right;\n",
              "    }\n",
              "</style>\n",
              "<table border=\"1\" class=\"dataframe\">\n",
              "  <thead>\n",
              "    <tr style=\"text-align: right;\">\n",
              "      <th></th>\n",
              "      <th>date</th>\n",
              "      <th>volume</th>\n",
              "      <th>open</th>\n",
              "      <th>high</th>\n",
              "      <th>low</th>\n",
              "      <th>close</th>\n",
              "      <th>adjclose</th>\n",
              "    </tr>\n",
              "  </thead>\n",
              "  <tbody>\n",
              "    <tr>\n",
              "      <th>3105</th>\n",
              "      <td>2016-12-16</td>\n",
              "      <td>2443800</td>\n",
              "      <td>800.400024</td>\n",
              "      <td>800.856018</td>\n",
              "      <td>790.289978</td>\n",
              "      <td>790.799988</td>\n",
              "      <td>790.799988</td>\n",
              "    </tr>\n",
              "    <tr>\n",
              "      <th>3106</th>\n",
              "      <td>2016-12-19</td>\n",
              "      <td>1232100</td>\n",
              "      <td>790.219971</td>\n",
              "      <td>797.659973</td>\n",
              "      <td>786.270020</td>\n",
              "      <td>794.200012</td>\n",
              "      <td>794.200012</td>\n",
              "    </tr>\n",
              "    <tr>\n",
              "      <th>3107</th>\n",
              "      <td>2016-12-20</td>\n",
              "      <td>951000</td>\n",
              "      <td>796.760010</td>\n",
              "      <td>798.650024</td>\n",
              "      <td>793.270020</td>\n",
              "      <td>796.419983</td>\n",
              "      <td>796.419983</td>\n",
              "    </tr>\n",
              "    <tr>\n",
              "      <th>3108</th>\n",
              "      <td>2016-12-21</td>\n",
              "      <td>1211300</td>\n",
              "      <td>795.840027</td>\n",
              "      <td>796.676025</td>\n",
              "      <td>787.099976</td>\n",
              "      <td>794.559998</td>\n",
              "      <td>794.559998</td>\n",
              "    </tr>\n",
              "    <tr>\n",
              "      <th>3109</th>\n",
              "      <td>2016-12-22</td>\n",
              "      <td>972200</td>\n",
              "      <td>792.359985</td>\n",
              "      <td>793.320007</td>\n",
              "      <td>788.580017</td>\n",
              "      <td>791.260010</td>\n",
              "      <td>791.260010</td>\n",
              "    </tr>\n",
              "    <tr>\n",
              "      <th>3110</th>\n",
              "      <td>2016-12-23</td>\n",
              "      <td>623400</td>\n",
              "      <td>790.900024</td>\n",
              "      <td>792.739990</td>\n",
              "      <td>787.280029</td>\n",
              "      <td>789.909973</td>\n",
              "      <td>789.909973</td>\n",
              "    </tr>\n",
              "    <tr>\n",
              "      <th>3111</th>\n",
              "      <td>2016-12-27</td>\n",
              "      <td>789100</td>\n",
              "      <td>790.679993</td>\n",
              "      <td>797.859985</td>\n",
              "      <td>787.656982</td>\n",
              "      <td>791.549988</td>\n",
              "      <td>791.549988</td>\n",
              "    </tr>\n",
              "    <tr>\n",
              "      <th>3112</th>\n",
              "      <td>2016-12-28</td>\n",
              "      <td>1153800</td>\n",
              "      <td>793.700012</td>\n",
              "      <td>794.229980</td>\n",
              "      <td>783.200012</td>\n",
              "      <td>785.049988</td>\n",
              "      <td>785.049988</td>\n",
              "    </tr>\n",
              "    <tr>\n",
              "      <th>3113</th>\n",
              "      <td>2016-12-29</td>\n",
              "      <td>744300</td>\n",
              "      <td>783.330017</td>\n",
              "      <td>785.929993</td>\n",
              "      <td>778.919983</td>\n",
              "      <td>782.789978</td>\n",
              "      <td>782.789978</td>\n",
              "    </tr>\n",
              "    <tr>\n",
              "      <th>3114</th>\n",
              "      <td>2016-12-30</td>\n",
              "      <td>1770000</td>\n",
              "      <td>782.750000</td>\n",
              "      <td>782.780029</td>\n",
              "      <td>770.409973</td>\n",
              "      <td>771.820007</td>\n",
              "      <td>771.820007</td>\n",
              "    </tr>\n",
              "  </tbody>\n",
              "</table>\n",
              "</div>"
            ],
            "text/plain": [
              "           date   volume        open        high         low       close  \\\n",
              "3105 2016-12-16  2443800  800.400024  800.856018  790.289978  790.799988   \n",
              "3106 2016-12-19  1232100  790.219971  797.659973  786.270020  794.200012   \n",
              "3107 2016-12-20   951000  796.760010  798.650024  793.270020  796.419983   \n",
              "3108 2016-12-21  1211300  795.840027  796.676025  787.099976  794.559998   \n",
              "3109 2016-12-22   972200  792.359985  793.320007  788.580017  791.260010   \n",
              "3110 2016-12-23   623400  790.900024  792.739990  787.280029  789.909973   \n",
              "3111 2016-12-27   789100  790.679993  797.859985  787.656982  791.549988   \n",
              "3112 2016-12-28  1153800  793.700012  794.229980  783.200012  785.049988   \n",
              "3113 2016-12-29   744300  783.330017  785.929993  778.919983  782.789978   \n",
              "3114 2016-12-30  1770000  782.750000  782.780029  770.409973  771.820007   \n",
              "\n",
              "        adjclose  \n",
              "3105  790.799988  \n",
              "3106  794.200012  \n",
              "3107  796.419983  \n",
              "3108  794.559998  \n",
              "3109  791.260010  \n",
              "3110  789.909973  \n",
              "3111  791.549988  \n",
              "3112  785.049988  \n",
              "3113  782.789978  \n",
              "3114  771.820007  "
            ]
          },
          "execution_count": 4,
          "metadata": {},
          "output_type": "execute_result"
        }
      ],
      "source": [
        "df.tail(10)"
      ]
    },
    {
      "cell_type": "code",
      "execution_count": 5,
      "metadata": {
        "colab": {},
        "colab_type": "code",
        "id": "It30Ts8cTXAu"
      },
      "outputs": [],
      "source": [
        "from torch.utils.data.dataset import Dataset\n",
        "from torch.utils.data import DataLoader\n",
        "\n",
        "# Caveats\n",
        "#   - looks at only 1 column\n",
        "class StockSeqDataset(Dataset):\n",
        "    def __init__(self, df, column='adjclose', hist_win=hist_win, pred_win=pred_win):\n",
        "        self.df = df\n",
        "        self.col = column\n",
        "        self.hist_win = hist_win\n",
        "        self.pred_win = pred_win\n",
        "    \n",
        "    def __getitem__(self, index):\n",
        "        assert 0 <= index < len(self)\n",
        "        x_end = index + self.hist_win\n",
        "        x = self.df.iloc[index:x_end][self.col]\n",
        "        y = self.df.iloc[x_end:x_end+self.pred_win][self.col]\n",
        "        return (th.from_numpy(np.array(x, dtype=np.float32)),\n",
        "                th.from_numpy(np.array(y, dtype=np.float32)))\n",
        "    \n",
        "    def __len__(self):\n",
        "        return len(self.df) - self.hist_win - self.pred_win + 1\n",
        "\n",
        "ds = StockSeqDataset(df)\n",
        "\n",
        "dl = DataLoader(dataset=ds, batch_size=batch_size, shuffle=True)"
      ]
    },
    {
      "cell_type": "code",
      "execution_count": 6,
      "metadata": {
        "colab": {
          "base_uri": "https://localhost:8080/",
          "height": 72
        },
        "colab_type": "code",
        "id": "1F7NjiF0TXAw",
        "outputId": "0105540e-de43-41ff-8e41-262a8c577901"
      },
      "outputs": [
        {
          "data": {
            "text/plain": [
              "(tensor([49.9827, 53.9528, 54.4957, 52.2392, 52.8021, 53.7535, 52.8768, 50.8145]),\n",
              " tensor([50.9939]))"
            ]
          },
          "execution_count": 6,
          "metadata": {},
          "output_type": "execute_result"
        }
      ],
      "source": [
        "ds[0]"
      ]
    },
    {
      "cell_type": "code",
      "execution_count": 7,
      "metadata": {
        "colab": {
          "base_uri": "https://localhost:8080/",
          "height": 52
        },
        "colab_type": "code",
        "id": "bqti8wGzTXAz",
        "outputId": "ecd8cd7b-68fe-4aa2-8742-672a39b0ade0"
      },
      "outputs": [
        {
          "name": "stdout",
          "output_type": "stream",
          "text": [
            "torch.Size([128, 8])\n",
            "torch.Size([128, 1])\n"
          ]
        }
      ],
      "source": [
        "for x, y in dl:\n",
        "    print(x.shape)\n",
        "    print(y.shape)\n",
        "    break"
      ]
    },
    {
      "cell_type": "markdown",
      "metadata": {
        "colab_type": "text",
        "id": "aOpyV9RT4Bxv"
      },
      "source": [
        "# Model"
      ]
    },
    {
      "cell_type": "code",
      "execution_count": 8,
      "metadata": {
        "colab": {
          "base_uri": "https://localhost:8080/",
          "height": 935
        },
        "colab_type": "code",
        "id": "N63x007vTXA1",
        "outputId": "a9c99509-2346-422c-8876-fdd17c1f4e8c"
      },
      "outputs": [
        {
          "name": "stderr",
          "output_type": "stream",
          "text": [
            "/home/z/tools/conda/envs/trading/lib/python3.8/site-packages/torch/optim/lr_scheduler.py:595: UserWarning: To get the last learning rate computed by the scheduler, please use `get_last_lr()`.\n",
            "  warnings.warn(\"To get the last learning rate computed by the scheduler, \"\n"
          ]
        },
        {
          "name": "stdout",
          "output_type": "stream",
          "text": [
            "0.00405 135.46750518798828\n",
            "0.00365 125.60798736572265\n",
            "0.00328 123.34597290039062\n",
            "0.00295 116.95805191040039\n",
            "0.00266 113.63798614501952\n",
            "0.00239 113.56078659057617\n",
            "0.00215 110.11511306762695\n",
            "0.00194 110.13216064453125\n",
            "0.00174 109.57348876953125\n",
            "0.00157 105.63393600463867\n",
            "0.00141 104.80186126708985\n",
            "0.00127 104.76990234375\n",
            "0.00114 103.93078353881836\n",
            "0.00103 101.38063125610351\n",
            "0.00093 99.91065628051757\n",
            "0.00083 101.00399871826171\n",
            "0.00075 100.24038970947265\n",
            "0.00068 98.98553756713868\n",
            "0.00061 98.33415222167969\n",
            "0.00055 97.79507308959961\n",
            "0.00049 96.61323959350585\n",
            "0.00044 96.54659027099609\n",
            "0.00040 98.9584700012207\n",
            "0.00036 96.72092391967773\n",
            "0.00032 96.4173258972168\n",
            "0.00029 95.05152404785156\n",
            "0.00026 95.05673324584961\n",
            "0.00024 95.67247833251953\n",
            "0.00021 96.50325622558594\n",
            "0.00019 100.8198309326172\n",
            "0.00017 96.86321716308593\n",
            "0.00015 97.45383682250977\n",
            "0.00014 93.62998916625976\n",
            "0.00013 93.55347076416015\n",
            "0.00011 93.16908569335938\n",
            "0.00010 96.17081726074218\n",
            "0.00009 93.10479537963867\n",
            "0.00008 96.46008422851563\n",
            "0.00007 93.70486206054687\n",
            "0.00007 93.1017562866211\n",
            "0.00006 93.4102668762207\n",
            "0.00005 92.54648345947265\n",
            "0.00005 96.13121856689453\n",
            "0.00004 92.99719635009765\n",
            "0.00004 97.1043130493164\n",
            "0.00004 92.68833480834961\n",
            "0.00003 94.90080841064453\n",
            "0.00003 94.97613754272462\n",
            "0.00003 94.50730331420898\n",
            "0.00002 95.47778854370117\n"
          ]
        }
      ],
      "source": [
        "model = th.nn.Sequential(\n",
        "    th.nn.Linear(hist_win, pred_win),\n",
        "    #th.nn.ReLU(),\n",
        "    #th.nn.Linear(100, pred_win),\n",
        ")\n",
        "\n",
        "loss_fn = th.nn.MSELoss()\n",
        "\n",
        "learning_rate = 0.005\n",
        "optimizer = th.optim.Adam(model.parameters(), lr=learning_rate, betas=(0.5, 0.5))\n",
        "lr_schedule = th.optim.lr_scheduler.ExponentialLR(optimizer, 0.9)\n",
        "\n",
        "steps = 50\n",
        "for epoch in range(steps):\n",
        "    loss_avg = 0\n",
        "    for x, y in dl:\n",
        "        optimizer.zero_grad()\n",
        "        y_pred = model(x)\n",
        "        loss = loss_fn(y_pred, y)\n",
        "        loss.backward()\n",
        "        optimizer.step()\n",
        "        loss_avg += loss.item()\n",
        "        #print(loss.item())\n",
        "    lr_schedule.step()\n",
        "    print(f'{lr_schedule.get_lr()[0]:.5f} {loss_avg / len(dl)}')"
      ]
    },
    {
      "cell_type": "code",
      "execution_count": 9,
      "metadata": {
        "colab": {
          "base_uri": "https://localhost:8080/",
          "height": 35
        },
        "colab_type": "code",
        "id": "jhIPJsQITXA5",
        "outputId": "6d84f823-3525-4372-a370-12dbf6736a5b"
      },
      "outputs": [
        {
          "data": {
            "text/plain": [
              "[2.3191988432940557e-05]"
            ]
          },
          "execution_count": 9,
          "metadata": {},
          "output_type": "execute_result"
        }
      ],
      "source": [
        "lr_schedule.get_lr()"
      ]
    },
    {
      "cell_type": "code",
      "execution_count": 10,
      "metadata": {
        "colab": {
          "base_uri": "https://localhost:8080/",
          "height": 124
        },
        "colab_type": "code",
        "id": "vj1dKyQbTXA7",
        "outputId": "3ca37430-d39e-4745-ac63-c39a117cccb3"
      },
      "outputs": [
        {
          "data": {
            "text/plain": [
              "tensor([[302.2521, 154.3714, 712.7800, 197.2457,  53.5493, 287.7664, 274.8299,\n",
              "         753.2000, 231.5969,  50.9640, 208.8721, 701.8700, 194.4611, 538.2223,\n",
              "         718.9200, 541.4435, 359.0442, 182.6105, 807.6700, 295.0491, 216.9966,\n",
              "         607.7221, 303.0391, 442.2175, 206.3067, 786.9000, 288.1748, 159.2481,\n",
              "         296.3592, 251.5571, 290.4912, 553.8441, 197.7588, 536.4671, 329.0417]])"
            ]
          },
          "execution_count": 10,
          "metadata": {},
          "output_type": "execute_result"
        }
      ],
      "source": [
        "y.t()"
      ]
    },
    {
      "cell_type": "code",
      "execution_count": 11,
      "metadata": {
        "colab": {
          "base_uri": "https://localhost:8080/",
          "height": 141
        },
        "colab_type": "code",
        "id": "uDU4aZIRTXA-",
        "outputId": "2439445b-8661-460d-aed6-790e42ae3697"
      },
      "outputs": [
        {
          "data": {
            "text/plain": [
              "tensor([[304.6033, 149.4101, 661.3292, 193.2132,  51.2976, 292.2066, 267.8508,\n",
              "         742.0999, 236.6319,  50.8671, 212.1683, 698.1413, 183.3128, 541.7404,\n",
              "         725.8603, 532.5147, 348.3885, 175.4143, 803.4894, 299.5004, 217.0034,\n",
              "         601.6290, 299.9847, 444.0272, 220.7691, 772.7075, 288.9325, 156.0947,\n",
              "         272.3229, 242.5462, 292.8359, 543.6443, 203.2726, 554.3061, 346.6750]],\n",
              "       grad_fn=<TBackward0>)"
            ]
          },
          "execution_count": 11,
          "metadata": {},
          "output_type": "execute_result"
        }
      ],
      "source": [
        "model(x).t()"
      ]
    },
    {
      "cell_type": "markdown",
      "metadata": {
        "colab_type": "text",
        "id": "M9vxUEfYoibx"
      },
      "source": [
        "# Baseline Models"
      ]
    },
    {
      "cell_type": "code",
      "execution_count": 12,
      "metadata": {
        "colab": {},
        "colab_type": "code",
        "id": "Tgsn8xw3ojkM"
      },
      "outputs": [],
      "source": [
        "class MeanModel(th.nn.Module):\n",
        "    def forward(self, x):\n",
        "        return x.mean(dim=-1).unsqueeze(axis=1)"
      ]
    },
    {
      "cell_type": "markdown",
      "metadata": {
        "colab_type": "text",
        "id": "iB_w0lVD4QEu"
      },
      "source": [
        "# Validation"
      ]
    },
    {
      "cell_type": "code",
      "execution_count": 13,
      "metadata": {
        "colab": {
          "base_uri": "https://localhost:8080/",
          "height": 124
        },
        "colab_type": "code",
        "id": "ABoCQ3hzTXBC",
        "outputId": "978d6e05-5caa-4e02-9f11-6d6ed3fd525b"
      },
      "outputs": [
        {
          "data": {
            "text/plain": [
              "[Parameter containing:\n",
              " tensor([[ 0.1095,  0.0578, -0.2452,  0.2682,  0.2294,  0.2451,  0.1587,  0.1782]],\n",
              "        requires_grad=True),\n",
              " Parameter containing:\n",
              " tensor([0.3326], requires_grad=True)]"
            ]
          },
          "execution_count": 13,
          "metadata": {},
          "output_type": "execute_result"
        }
      ],
      "source": [
        "list(model.parameters())"
      ]
    },
    {
      "cell_type": "code",
      "execution_count": 14,
      "metadata": {
        "colab": {},
        "colab_type": "code",
        "id": "gdf3PstYTXBA"
      },
      "outputs": [],
      "source": [
        "def validate(model, ticker):\n",
        "  assert pred_win == 1\n",
        "  df = load_df(ticker, eval_date_range)\n",
        "  ds = StockSeqDataset(df)\n",
        "  dl = DataLoader(dataset=ds, batch_size=batch_size, shuffle=False)\n",
        "  for i, (x, y) in enumerate(dl):\n",
        "    start = batch_size * i + hist_win  # prediction is offset by hist_win\n",
        "    end = start + batch_size - 1  # slice end is inclusive\n",
        "    with th.no_grad():\n",
        "      y_pred = model(x)\n",
        "    y = y.cpu().numpy().squeeze()\n",
        "    y_pred = y_pred.cpu().numpy().squeeze()\n",
        "    #import pdb; pdb.set_trace()\n",
        "    df.loc[start:end, 'actual'] = y\n",
        "    df.loc[start:end, 'pred'] = y_pred\n",
        "  return df\n",
        "\n",
        "def plot(df, cols=['actual', 'pred']):\n",
        " df.plot(x='date', y=cols, figsize=(10, 8))"
      ]
    },
    {
      "cell_type": "code",
      "execution_count": 15,
      "metadata": {
        "colab": {
          "base_uri": "https://localhost:8080/",
          "height": 473
        },
        "colab_type": "code",
        "id": "PO_vZH-4TXBE",
        "outputId": "2e4c4f17-e9f8-4708-c004-db5d2e19f507"
      },
      "outputs": [
        {
          "data": {
            "image/png": "[encoded data removed]",
            "text/plain": [
              "<Figure size 720x576 with 1 Axes>"
            ]
          },
          "metadata": {},
          "output_type": "display_data"
        }
      ],
      "source": [
        "df_pred = validate(model, 'FB')\n",
        "plot(df_pred)"
      ]
    },
    {
      "cell_type": "code",
      "execution_count": 16,
      "metadata": {
        "colab": {
          "base_uri": "https://localhost:8080/",
          "height": 473
        },
        "colab_type": "code",
        "id": "UrYuKN81TXBJ",
        "outputId": "7fda4100-79e2-4e25-89dc-d416387ea656"
      },
      "outputs": [
        {
          "data": {
            "image/png": "[encoded data removed]",
            "text/plain": [
              "<Figure size 720x576 with 1 Axes>"
            ]
          },
          "metadata": {},
          "output_type": "display_data"
        }
      ],
      "source": [
        "df_pred = validate(MeanModel(), 'FB')\n",
        "plot(df_pred)"
      ]
    },
    {
      "cell_type": "markdown",
      "metadata": {
        "colab_type": "text",
        "id": "r_faUFu04Y4M"
      },
      "source": [
        "# Strategy"
      ]
    },
    {
      "cell_type": "code",
      "execution_count": 17,
      "metadata": {
        "colab": {},
        "colab_type": "code",
        "id": "DbgwUJ5-Aibs"
      },
      "outputs": [],
      "source": [
        "class SimpleStrategy:\n",
        "  \"\"\"Simple strategy\n",
        "\n",
        "  If day's predicted change is positive, hold through day.\n",
        "  If day's predicted change is negative, skip the day.\n",
        "  \"\"\"\n",
        "  def __init__(self, model):\n",
        "    self.model = model\n",
        "\n",
        "  def compute_hold(self, ticker):\n",
        "    df_pred = validate(self.model, ticker)\n",
        "    df_pred = df_pred.dropna(subset=('actual', 'pred'))\n",
        "    actual, pred = df_pred['actual'].values, df_pred['pred'].values\n",
        "    assert len(actual) == len(pred)\n",
        "    hold = pred[1:] > pred[:-1]\n",
        "    return pd.DataFrame.from_dict({\n",
        "        'actual': actual[1:],\n",
        "        'pred': pred[1:],\n",
        "        'hold': hold,\n",
        "    })\n",
        "\n",
        "def compute_returns(df):\n",
        "  df = df.copy()\n",
        "  df.loc[:, 'roi_actual'] = df.actual / df.actual.shift(1)\n",
        "  df.loc[:, 'roi_pred'] = df.pred / df.pred.shift(1)\n",
        "  return df\n",
        "\n",
        "def total_return(df, query=None):\n",
        "  if query:\n",
        "    df = df.query(query)\n",
        "  roi_actual = df.roi_actual.product()\n",
        "  roi_pred = df.roi_pred.product()\n",
        "  return roi_actual, roi_pred\n",
        "\n",
        "def evaluate_models(models, tickers):\n",
        "  strats = {name: SimpleStrategy(model) for name, model in models.items()}\n",
        "  df_actual = pd.DataFrame()\n",
        "  df_pred = pd.DataFrame()\n",
        "  \n",
        "  for ticker in tickers:\n",
        "    for strat_name, strat in strats.items():\n",
        "      df_hold = strat.compute_hold(ticker)\n",
        "      df_roi = compute_returns(df_hold)\n",
        "      \n",
        "      all = total_return(df_roi)\n",
        "      hold = total_return(df_roi, 'hold == True')\n",
        "      not_hold = total_return(df_roi, 'hold == False')\n",
        "\n",
        "      df_actual.loc[strat_name + ': all', ticker] = all[0]\n",
        "      df_actual.loc[strat_name + ': hold', ticker] = hold[0]\n",
        "      df_actual.loc[strat_name + ': !hold', ticker] = not_hold[0]\n",
        "      df_pred.loc[strat_name + ': all', ticker] = all[1]\n",
        "      df_pred.loc[strat_name + ': hold', ticker] = hold[1]\n",
        "      df_pred.loc[strat_name + ': !hold', ticker] = not_hold[1]\n",
        "  return df_actual, df_pred\n"
      ]
    },
    {
      "cell_type": "code",
      "execution_count": 18,
      "metadata": {
        "colab": {
          "base_uri": "https://localhost:8080/",
          "height": 228
        },
        "colab_type": "code",
        "id": "ydyvSoMS08W2",
        "outputId": "c3a4ebde-af2e-4a47-8ea6-f0be58fe091c"
      },
      "outputs": [
        {
          "data": {
            "text/html": [
              "<div>\n",
              "<style scoped>\n",
              "    .dataframe tbody tr th:only-of-type {\n",
              "        vertical-align: middle;\n",
              "    }\n",
              "\n",
              "    .dataframe tbody tr th {\n",
              "        vertical-align: top;\n",
              "    }\n",
              "\n",
              "    .dataframe thead th {\n",
              "        text-align: right;\n",
              "    }\n",
              "</style>\n",
              "<table border=\"1\" class=\"dataframe\">\n",
              "  <thead>\n",
              "    <tr style=\"text-align: right;\">\n",
              "      <th></th>\n",
              "      <th>FB</th>\n",
              "      <th>GOOG</th>\n",
              "      <th>AAPL</th>\n",
              "      <th>MSFT</th>\n",
              "      <th>SPY</th>\n",
              "    </tr>\n",
              "  </thead>\n",
              "  <tbody>\n",
              "    <tr>\n",
              "      <th>mean: all</th>\n",
              "      <td>1.605146</td>\n",
              "      <td>1.661699</td>\n",
              "      <td>2.561681</td>\n",
              "      <td>2.661718</td>\n",
              "      <td>1.505768</td>\n",
              "    </tr>\n",
              "    <tr>\n",
              "      <th>mean: hold</th>\n",
              "      <td>1.191727</td>\n",
              "      <td>0.858176</td>\n",
              "      <td>1.725185</td>\n",
              "      <td>1.198620</td>\n",
              "      <td>1.311941</td>\n",
              "    </tr>\n",
              "    <tr>\n",
              "      <th>mean: !hold</th>\n",
              "      <td>1.346908</td>\n",
              "      <td>1.936316</td>\n",
              "      <td>1.484874</td>\n",
              "      <td>2.220653</td>\n",
              "      <td>1.147746</td>\n",
              "    </tr>\n",
              "    <tr>\n",
              "      <th>linear: all</th>\n",
              "      <td>1.605146</td>\n",
              "      <td>1.661699</td>\n",
              "      <td>2.561681</td>\n",
              "      <td>2.661718</td>\n",
              "      <td>1.505768</td>\n",
              "    </tr>\n",
              "    <tr>\n",
              "      <th>linear: hold</th>\n",
              "      <td>1.001639</td>\n",
              "      <td>1.032492</td>\n",
              "      <td>2.433386</td>\n",
              "      <td>1.100333</td>\n",
              "      <td>1.288130</td>\n",
              "    </tr>\n",
              "    <tr>\n",
              "      <th>linear: !hold</th>\n",
              "      <td>1.602517</td>\n",
              "      <td>1.609406</td>\n",
              "      <td>1.052723</td>\n",
              "      <td>2.419017</td>\n",
              "      <td>1.168961</td>\n",
              "    </tr>\n",
              "  </tbody>\n",
              "</table>\n",
              "</div>"
            ],
            "text/plain": [
              "                     FB      GOOG      AAPL      MSFT       SPY\n",
              "mean: all      1.605146  1.661699  2.561681  2.661718  1.505768\n",
              "mean: hold     1.191727  0.858176  1.725185  1.198620  1.311941\n",
              "mean: !hold    1.346908  1.936316  1.484874  2.220653  1.147746\n",
              "linear: all    1.605146  1.661699  2.561681  2.661718  1.505768\n",
              "linear: hold   1.001639  1.032492  2.433386  1.100333  1.288130\n",
              "linear: !hold  1.602517  1.609406  1.052723  2.419017  1.168961"
            ]
          },
          "execution_count": 18,
          "metadata": {},
          "output_type": "execute_result"
        }
      ],
      "source": [
        "models = {\n",
        "    'mean': MeanModel(),\n",
        "    'linear': model,\n",
        "}\n",
        "tickers = [\n",
        "    'FB',\n",
        "    'GOOG',\n",
        "    'AAPL',\n",
        "    'MSFT',\n",
        "    'SPY',\n",
        "]\n",
        "\n",
        "df_actual, df_pred = evaluate_models(models, tickers)\n",
        "df_actual"
      ]
    }
  ],
  "metadata": {
    "colab": {
      "name": "single_stock_model_v1.ipynb",
      "provenance": []
    },
    "kernelspec": {
      "display_name": "Python 3",
      "language": "python",
      "name": "python3"
    },
    "language_info": {
      "codemirror_mode": {
        "name": "ipython",
        "version": 3
      },
      "file_extension": ".py",
      "mimetype": "text/x-python",
      "name": "python",
      "nbconvert_exporter": "python",
      "pygments_lexer": "ipython3",
      "version": "3.8.12"
    }
  },
  "nbformat": 4,
  "nbformat_minor": 0
}
