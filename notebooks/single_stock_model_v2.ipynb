{
  "cells": [
    {
      "cell_type": "markdown",
      "metadata": {
        "id": "JxYUXM_OnIiA"
      },
      "source": [
        "# Description\n",
        "\n",
        "A simple model to predict a stock's price given its recent price history.\n",
        "\n",
        "\n",
        "# Versions\n",
        "## v2\n",
        "- Using pytorch-lightning to manage the training loop\n",
        "\n",
        "## v1\n",
        "- Context window: 8 days price history\n",
        "- Linear model predicts next day price\n",
        "- L2 loss\n",
        "- Naive strategy of holding stock iff predicted price for day went up\n",
        "- Table comparing return vs baselines: always hold, and mean price predictor"
      ]
    },
    {
      "cell_type": "code",
      "execution_count": 1,
      "metadata": {
        "id": "M0cJgOfeNfes"
      },
      "outputs": [],
      "source": [
        "%load_ext autoreload\n",
        "%autoreload 2"
      ]
    },
    {
      "cell_type": "code",
      "execution_count": 2,
      "metadata": {
        "id": "gjPhwU4sTXAk"
      },
      "outputs": [],
      "source": [
        "from matplotlib import pyplot as plt\n",
        "\n",
        "%matplotlib inline\n",
        "\n",
        "import pandas as pd\n",
        "import torch as th\n",
        "import numpy as np\n",
        "\n",
        "plt.rcParams.update({\n",
        "    \"lines.color\": \"white\",\n",
        "    \"patch.edgecolor\": \"white\",\n",
        "    \"text.color\": \"black\",\n",
        "    \"axes.facecolor\": \"white\",\n",
        "    \"axes.edgecolor\": \"lightgray\",\n",
        "    \"axes.labelcolor\": \"white\",\n",
        "    \"xtick.color\": \"white\",\n",
        "    \"ytick.color\": \"white\",\n",
        "    \"grid.color\": \"lightgray\",\n",
        "    \"figure.facecolor\": \"black\",\n",
        "    \"figure.edgecolor\": \"black\",\n",
        "    \"savefig.facecolor\": \"black\",\n",
        "    \"savefig.edgecolor\": \"black\"})"
      ]
    },
    {
      "cell_type": "markdown",
      "metadata": {
        "id": "QI-drLqv3_Dy"
      },
      "source": [
        "# Dataset"
      ]
    },
    {
      "cell_type": "code",
      "execution_count": 3,
      "metadata": {
        "id": "Ov_fnPOBTXAp"
      },
      "outputs": [],
      "source": [
        "from dataclasses import dataclass\n",
        "\n",
        "batch_size = 128\n",
        "hist_win = 8\n",
        "pred_win = 1\n",
        "\n",
        "@dataclass\n",
        "class DateRange:\n",
        "  \"\"\"Specifies a range of dates, using [start, end).\"\"\"\n",
        "  start: str = None\n",
        "  end: str = None\n",
        "\n",
        "train_date_range = DateRange('2003-01-01', '2015-01-01')\n",
        "eval_date_range = DateRange('2015-01-01', '2020-01-01')"
      ]
    },
    {
      "cell_type": "code",
      "execution_count": 4,
      "metadata": {
        "colab": {
          "base_uri": "https://localhost:8080/",
          "height": 348
        },
        "id": "LZ_5pbU3TXAr",
        "outputId": "053143cb-7c6d-4c33-a785-b80f9c1f9d7b"
      },
      "outputs": [
        {
          "data": {
            "text/html": [
              "<div>\n",
              "<style scoped>\n",
              "    .dataframe tbody tr th:only-of-type {\n",
              "        vertical-align: middle;\n",
              "    }\n",
              "\n",
              "    .dataframe tbody tr th {\n",
              "        vertical-align: top;\n",
              "    }\n",
              "\n",
              "    .dataframe thead th {\n",
              "        text-align: right;\n",
              "    }\n",
              "</style>\n",
              "<table border=\"1\" class=\"dataframe\">\n",
              "  <thead>\n",
              "    <tr style=\"text-align: right;\">\n",
              "      <th></th>\n",
              "      <th>date</th>\n",
              "      <th>volume</th>\n",
              "      <th>open</th>\n",
              "      <th>high</th>\n",
              "      <th>low</th>\n",
              "      <th>close</th>\n",
              "      <th>adjclose</th>\n",
              "    </tr>\n",
              "  </thead>\n",
              "  <tbody>\n",
              "    <tr>\n",
              "      <th>0</th>\n",
              "      <td>2004-08-19</td>\n",
              "      <td>44871300</td>\n",
              "      <td>49.813286</td>\n",
              "      <td>51.835709</td>\n",
              "      <td>47.800831</td>\n",
              "      <td>49.982655</td>\n",
              "      <td>49.982655</td>\n",
              "    </tr>\n",
              "    <tr>\n",
              "      <th>1</th>\n",
              "      <td>2004-08-20</td>\n",
              "      <td>22942800</td>\n",
              "      <td>50.316402</td>\n",
              "      <td>54.336334</td>\n",
              "      <td>50.062355</td>\n",
              "      <td>53.952770</td>\n",
              "      <td>53.952770</td>\n",
              "    </tr>\n",
              "    <tr>\n",
              "      <th>2</th>\n",
              "      <td>2004-08-23</td>\n",
              "      <td>18342800</td>\n",
              "      <td>55.168217</td>\n",
              "      <td>56.528118</td>\n",
              "      <td>54.321388</td>\n",
              "      <td>54.495735</td>\n",
              "      <td>54.495735</td>\n",
              "    </tr>\n",
              "    <tr>\n",
              "      <th>3</th>\n",
              "      <td>2004-08-24</td>\n",
              "      <td>15319700</td>\n",
              "      <td>55.412300</td>\n",
              "      <td>55.591629</td>\n",
              "      <td>51.591621</td>\n",
              "      <td>52.239193</td>\n",
              "      <td>52.239193</td>\n",
              "    </tr>\n",
              "    <tr>\n",
              "      <th>4</th>\n",
              "      <td>2004-08-25</td>\n",
              "      <td>9232100</td>\n",
              "      <td>52.284027</td>\n",
              "      <td>53.798351</td>\n",
              "      <td>51.746044</td>\n",
              "      <td>52.802086</td>\n",
              "      <td>52.802086</td>\n",
              "    </tr>\n",
              "    <tr>\n",
              "      <th>5</th>\n",
              "      <td>2004-08-26</td>\n",
              "      <td>7128600</td>\n",
              "      <td>52.279045</td>\n",
              "      <td>53.773445</td>\n",
              "      <td>52.134586</td>\n",
              "      <td>53.753517</td>\n",
              "      <td>53.753517</td>\n",
              "    </tr>\n",
              "    <tr>\n",
              "      <th>6</th>\n",
              "      <td>2004-08-27</td>\n",
              "      <td>6241200</td>\n",
              "      <td>53.848164</td>\n",
              "      <td>54.107193</td>\n",
              "      <td>52.647663</td>\n",
              "      <td>52.876804</td>\n",
              "      <td>52.876804</td>\n",
              "    </tr>\n",
              "    <tr>\n",
              "      <th>7</th>\n",
              "      <td>2004-08-30</td>\n",
              "      <td>5221400</td>\n",
              "      <td>52.443428</td>\n",
              "      <td>52.548038</td>\n",
              "      <td>50.814533</td>\n",
              "      <td>50.814533</td>\n",
              "      <td>50.814533</td>\n",
              "    </tr>\n",
              "    <tr>\n",
              "      <th>8</th>\n",
              "      <td>2004-08-31</td>\n",
              "      <td>4941200</td>\n",
              "      <td>50.958992</td>\n",
              "      <td>51.661362</td>\n",
              "      <td>50.889256</td>\n",
              "      <td>50.993862</td>\n",
              "      <td>50.993862</td>\n",
              "    </tr>\n",
              "    <tr>\n",
              "      <th>9</th>\n",
              "      <td>2004-09-01</td>\n",
              "      <td>9181600</td>\n",
              "      <td>51.158245</td>\n",
              "      <td>51.292744</td>\n",
              "      <td>49.648903</td>\n",
              "      <td>49.937820</td>\n",
              "      <td>49.937820</td>\n",
              "    </tr>\n",
              "  </tbody>\n",
              "</table>\n",
              "</div>"
            ],
            "text/plain": [
              "        date    volume       open       high        low      close   adjclose\n",
              "0 2004-08-19  44871300  49.813286  51.835709  47.800831  49.982655  49.982655\n",
              "1 2004-08-20  22942800  50.316402  54.336334  50.062355  53.952770  53.952770\n",
              "2 2004-08-23  18342800  55.168217  56.528118  54.321388  54.495735  54.495735\n",
              "3 2004-08-24  15319700  55.412300  55.591629  51.591621  52.239193  52.239193\n",
              "4 2004-08-25   9232100  52.284027  53.798351  51.746044  52.802086  52.802086\n",
              "5 2004-08-26   7128600  52.279045  53.773445  52.134586  53.753517  53.753517\n",
              "6 2004-08-27   6241200  53.848164  54.107193  52.647663  52.876804  52.876804\n",
              "7 2004-08-30   5221400  52.443428  52.548038  50.814533  50.814533  50.814533\n",
              "8 2004-08-31   4941200  50.958992  51.661362  50.889256  50.993862  50.993862\n",
              "9 2004-09-01   9181600  51.158245  51.292744  49.648903  49.937820  49.937820"
            ]
          },
          "execution_count": 4,
          "metadata": {},
          "output_type": "execute_result"
        }
      ],
      "source": [
        "def load_df(ticker, date_range: DateRange):\n",
        "  \"\"\"Loads the DataFrame for ticker between [start_date, end_date).\"\"\"\n",
        "  df = pd.read_csv(f'~/data/zetaqubit/trading/kaggle/full_history/{ticker}.csv')\n",
        "  df['date'] = pd.to_datetime(df['date'])\n",
        "  if date_range.start:\n",
        "    df = df.query(f'date >= \"{date_range.start}\"')\n",
        "  if date_range.end:\n",
        "    df = df.query(f'date < \"{date_range.end}\"')\n",
        "  # reverse so oldest is first\n",
        "  df = df.iloc[::-1].reset_index(drop=True)\n",
        "  return df\n",
        "\n",
        "df_train = load_df('GOOG', train_date_range)\n",
        "df_valid = load_df('GOOG', eval_date_range)\n",
        "df_train.head(10)"
      ]
    },
    {
      "cell_type": "code",
      "execution_count": 5,
      "metadata": {
        "colab": {
          "base_uri": "https://localhost:8080/",
          "height": 348
        },
        "id": "2uVfcDoOtBJI",
        "outputId": "9e02f036-e4d3-4c0f-dc16-a6af3c2a3486"
      },
      "outputs": [
        {
          "data": {
            "text/html": [
              "<div>\n",
              "<style scoped>\n",
              "    .dataframe tbody tr th:only-of-type {\n",
              "        vertical-align: middle;\n",
              "    }\n",
              "\n",
              "    .dataframe tbody tr th {\n",
              "        vertical-align: top;\n",
              "    }\n",
              "\n",
              "    .dataframe thead th {\n",
              "        text-align: right;\n",
              "    }\n",
              "</style>\n",
              "<table border=\"1\" class=\"dataframe\">\n",
              "  <thead>\n",
              "    <tr style=\"text-align: right;\">\n",
              "      <th></th>\n",
              "      <th>date</th>\n",
              "      <th>volume</th>\n",
              "      <th>open</th>\n",
              "      <th>high</th>\n",
              "      <th>low</th>\n",
              "      <th>close</th>\n",
              "      <th>adjclose</th>\n",
              "    </tr>\n",
              "  </thead>\n",
              "  <tbody>\n",
              "    <tr>\n",
              "      <th>2601</th>\n",
              "      <td>2014-12-17</td>\n",
              "      <td>2883100</td>\n",
              "      <td>495.639221</td>\n",
              "      <td>505.611847</td>\n",
              "      <td>495.449738</td>\n",
              "      <td>503.507629</td>\n",
              "      <td>503.507629</td>\n",
              "    </tr>\n",
              "    <tr>\n",
              "      <th>2602</th>\n",
              "      <td>2014-12-18</td>\n",
              "      <td>2926700</td>\n",
              "      <td>511.545563</td>\n",
              "      <td>512.463013</td>\n",
              "      <td>503.318146</td>\n",
              "      <td>509.700623</td>\n",
              "      <td>509.700623</td>\n",
              "    </tr>\n",
              "    <tr>\n",
              "      <th>2603</th>\n",
              "      <td>2014-12-19</td>\n",
              "      <td>3690200</td>\n",
              "      <td>510.109497</td>\n",
              "      <td>516.302490</td>\n",
              "      <td>505.523071</td>\n",
              "      <td>514.936218</td>\n",
              "      <td>514.936218</td>\n",
              "    </tr>\n",
              "    <tr>\n",
              "      <th>2604</th>\n",
              "      <td>2014-12-22</td>\n",
              "      <td>2723700</td>\n",
              "      <td>514.666992</td>\n",
              "      <td>525.018555</td>\n",
              "      <td>514.666992</td>\n",
              "      <td>523.432922</td>\n",
              "      <td>523.432922</td>\n",
              "    </tr>\n",
              "    <tr>\n",
              "      <th>2605</th>\n",
              "      <td>2014-12-23</td>\n",
              "      <td>2197600</td>\n",
              "      <td>525.557068</td>\n",
              "      <td>533.096375</td>\n",
              "      <td>524.848999</td>\n",
              "      <td>529.137268</td>\n",
              "      <td>529.137268</td>\n",
              "    </tr>\n",
              "    <tr>\n",
              "      <th>2606</th>\n",
              "      <td>2014-12-24</td>\n",
              "      <td>705900</td>\n",
              "      <td>529.057495</td>\n",
              "      <td>530.303040</td>\n",
              "      <td>525.577026</td>\n",
              "      <td>527.322266</td>\n",
              "      <td>527.322266</td>\n",
              "    </tr>\n",
              "    <tr>\n",
              "      <th>2607</th>\n",
              "      <td>2014-12-26</td>\n",
              "      <td>1040500</td>\n",
              "      <td>527.322266</td>\n",
              "      <td>532.787231</td>\n",
              "      <td>525.866211</td>\n",
              "      <td>532.567810</td>\n",
              "      <td>532.567810</td>\n",
              "    </tr>\n",
              "    <tr>\n",
              "      <th>2608</th>\n",
              "      <td>2014-12-29</td>\n",
              "      <td>2278500</td>\n",
              "      <td>530.732849</td>\n",
              "      <td>534.013855</td>\n",
              "      <td>528.559814</td>\n",
              "      <td>528.877991</td>\n",
              "      <td>528.877991</td>\n",
              "    </tr>\n",
              "    <tr>\n",
              "      <th>2609</th>\n",
              "      <td>2014-12-30</td>\n",
              "      <td>876200</td>\n",
              "      <td>526.644104</td>\n",
              "      <td>529.695740</td>\n",
              "      <td>525.686707</td>\n",
              "      <td>528.967712</td>\n",
              "      <td>528.967712</td>\n",
              "    </tr>\n",
              "    <tr>\n",
              "      <th>2610</th>\n",
              "      <td>2014-12-31</td>\n",
              "      <td>1368200</td>\n",
              "      <td>529.795471</td>\n",
              "      <td>531.141724</td>\n",
              "      <td>524.360352</td>\n",
              "      <td>524.958740</td>\n",
              "      <td>524.958740</td>\n",
              "    </tr>\n",
              "  </tbody>\n",
              "</table>\n",
              "</div>"
            ],
            "text/plain": [
              "           date   volume        open        high         low       close  \\\n",
              "2601 2014-12-17  2883100  495.639221  505.611847  495.449738  503.507629   \n",
              "2602 2014-12-18  2926700  511.545563  512.463013  503.318146  509.700623   \n",
              "2603 2014-12-19  3690200  510.109497  516.302490  505.523071  514.936218   \n",
              "2604 2014-12-22  2723700  514.666992  525.018555  514.666992  523.432922   \n",
              "2605 2014-12-23  2197600  525.557068  533.096375  524.848999  529.137268   \n",
              "2606 2014-12-24   705900  529.057495  530.303040  525.577026  527.322266   \n",
              "2607 2014-12-26  1040500  527.322266  532.787231  525.866211  532.567810   \n",
              "2608 2014-12-29  2278500  530.732849  534.013855  528.559814  528.877991   \n",
              "2609 2014-12-30   876200  526.644104  529.695740  525.686707  528.967712   \n",
              "2610 2014-12-31  1368200  529.795471  531.141724  524.360352  524.958740   \n",
              "\n",
              "        adjclose  \n",
              "2601  503.507629  \n",
              "2602  509.700623  \n",
              "2603  514.936218  \n",
              "2604  523.432922  \n",
              "2605  529.137268  \n",
              "2606  527.322266  \n",
              "2607  532.567810  \n",
              "2608  528.877991  \n",
              "2609  528.967712  \n",
              "2610  524.958740  "
            ]
          },
          "execution_count": 5,
          "metadata": {},
          "output_type": "execute_result"
        }
      ],
      "source": [
        "df_train.tail(10)"
      ]
    },
    {
      "cell_type": "code",
      "execution_count": 6,
      "metadata": {
        "id": "It30Ts8cTXAu"
      },
      "outputs": [],
      "source": [
        "from torch.utils.data.dataset import Dataset\n",
        "from torch.utils.data import DataLoader\n",
        "\n",
        "# Caveats\n",
        "#   - looks at only 1 column\n",
        "class StockSeqDataset(Dataset):\n",
        "    def __init__(self, df, column='adjclose', hist_win=hist_win, pred_win=pred_win):\n",
        "        self.df = df\n",
        "        self.col = column\n",
        "        self.hist_win = hist_win\n",
        "        self.pred_win = pred_win\n",
        "    \n",
        "    def __getitem__(self, index):\n",
        "        assert 0 <= index < len(self)\n",
        "        x_end = index + self.hist_win\n",
        "        x = self.df.iloc[index:x_end][self.col]\n",
        "        y = self.df.iloc[x_end:x_end+self.pred_win][self.col]\n",
        "        return (th.from_numpy(np.array(x, dtype=np.float32)),\n",
        "                th.from_numpy(np.array(y, dtype=np.float32)))\n",
        "    \n",
        "    def __len__(self):\n",
        "        return len(self.df) - self.hist_win - self.pred_win + 1\n",
        "\n",
        "ds_train = StockSeqDataset(df_train)\n",
        "ds_valid = StockSeqDataset(df_valid)\n",
        "dl_train = DataLoader(dataset=ds_train, batch_size=batch_size, shuffle=True)\n",
        "dl_valid = DataLoader(dataset=ds_valid, batch_size=batch_size, shuffle=False)"
      ]
    },
    {
      "cell_type": "code",
      "execution_count": 7,
      "metadata": {
        "colab": {
          "base_uri": "https://localhost:8080/",
          "height": 52
        },
        "id": "1F7NjiF0TXAw",
        "outputId": "f6e998c6-716b-4513-af35-895c77fa7236"
      },
      "outputs": [
        {
          "data": {
            "text/plain": [
              "(tensor([49.9827, 53.9528, 54.4957, 52.2392, 52.8021, 53.7535, 52.8768, 50.8145]),\n",
              " tensor([50.9939]))"
            ]
          },
          "execution_count": 7,
          "metadata": {},
          "output_type": "execute_result"
        }
      ],
      "source": [
        "ds_train[0]"
      ]
    },
    {
      "cell_type": "code",
      "execution_count": 8,
      "metadata": {
        "colab": {
          "base_uri": "https://localhost:8080/",
          "height": 35
        },
        "id": "gtIHYe9i07sC",
        "outputId": "6f42c8b2-15af-4e57-d236-665e6583998b"
      },
      "outputs": [
        {
          "data": {
            "text/plain": [
              "(torch.Size([128, 8]), torch.Size([128, 1]))"
            ]
          },
          "execution_count": 8,
          "metadata": {},
          "output_type": "execute_result"
        }
      ],
      "source": [
        "x, y = next(iter(dl_train))\n",
        "x.shape, y.shape"
      ]
    },
    {
      "cell_type": "markdown",
      "metadata": {
        "id": "aOpyV9RT4Bxv"
      },
      "source": [
        "# Model"
      ]
    },
    {
      "cell_type": "code",
      "execution_count": 9,
      "metadata": {
        "id": "N63x007vTXA1"
      },
      "outputs": [
        {
          "name": "stderr",
          "output_type": "stream",
          "text": [
            "/home/z/tools/conda/envs/trading/lib/python3.8/site-packages/tqdm/auto.py:22: TqdmWarning: IProgress not found. Please update jupyter and ipywidgets. See https://ipywidgets.readthedocs.io/en/stable/user_install.html\n",
            "  from .autonotebook import tqdm as notebook_tqdm\n",
            "2023-09-20 00:52:51.981301: I tensorflow/core/platform/cpu_feature_guard.cc:193] This TensorFlow binary is optimized with oneAPI Deep Neural Network Library (oneDNN) to use the following CPU instructions in performance-critical operations:  AVX2 FMA\n",
            "To enable them in other operations, rebuild TensorFlow with the appropriate compiler flags.\n",
            "2023-09-20 00:52:52.542312: W tensorflow/compiler/xla/stream_executor/platform/default/dso_loader.cc:64] Could not load dynamic library 'libnvinfer.so.7'; dlerror: libnvinfer.so.7: cannot open shared object file: No such file or directory\n",
            "2023-09-20 00:52:52.542368: W tensorflow/compiler/xla/stream_executor/platform/default/dso_loader.cc:64] Could not load dynamic library 'libnvinfer_plugin.so.7'; dlerror: libnvinfer_plugin.so.7: cannot open shared object file: No such file or directory\n",
            "2023-09-20 00:52:52.542373: W tensorflow/compiler/tf2tensorrt/utils/py_utils.cc:38] TF-TRT Warning: Cannot dlopen some TensorRT libraries. If you would like to use Nvidia GPU with TensorRT, please make sure the missing libraries mentioned above are installed properly.\n"
          ]
        }
      ],
      "source": [
        "import pytorch_lightning as pl\n",
        "\n",
        "class PricePredictor(pl.LightningModule):\n",
        "  def __init__(self):\n",
        "    super().__init__()\n",
        "    self.model = th.nn.Sequential(\n",
        "      th.nn.Linear(hist_win, pred_win),\n",
        "      #th.nn.ReLU(),\n",
        "      #th.nn.Linear(100, pred_win),\n",
        "    )\n",
        "    self.loss_fn = th.nn.MSELoss()\n",
        "\n",
        "  def forward(self, x):\n",
        "    return self.model.forward(x)\n",
        "  \n",
        "  def training_step(self, batch, batch_idx):\n",
        "    x, y = batch\n",
        "    y_pred = self.model(x)\n",
        "    loss = self.loss_fn(y_pred, y)\n",
        "    result = pl.TrainResult(loss)\n",
        "    result.log('train_loss', loss, on_epoch=True)\n",
        "    return result\n",
        "\n",
        "  def validation_step(self, batch, batch_idx):\n",
        "    x, y = batch\n",
        "    y_pred = self.model(x)\n",
        "    loss = self.loss_fn(y_pred, y)\n",
        "    result = pl.EvalResult(checkpoint_on=loss)\n",
        "    result.log('val_loss', loss)\n",
        "    return result\n",
        "\n",
        "  def configure_optimizers(self):\n",
        "    optimizer = th.optim.Adam(self.parameters(), lr=learning_rate,\n",
        "                              betas=(0.5, 0.5))\n",
        "    scheduler = th.optim.lr_scheduler.ExponentialLR(optimizer, 0.9)\n",
        "    return [optimizer], [scheduler]"
      ]
    },
    {
      "cell_type": "code",
      "execution_count": 10,
      "metadata": {
        "colab": {
          "base_uri": "https://localhost:8080/",
          "height": 1000
        },
        "id": "1BNBuMNuw9_v",
        "outputId": "3d0b0392-3e2c-481e-bc51-d78269ddd788"
      },
      "outputs": [
        {
          "name": "stderr",
          "output_type": "stream",
          "text": [
            "GPU available: True (cuda), used: True\n",
            "TPU available: False, using: 0 TPU cores\n",
            "IPU available: False, using: 0 IPUs\n",
            "HPU available: False, using: 0 HPUs\n",
            "You are using a CUDA device ('NVIDIA GeForce RTX 3090 Ti') that has Tensor Cores. To properly utilize them, you should set `torch.set_float32_matmul_precision('medium' | 'high')` which will trade-off precision for performance. For more details, read https://pytorch.org/docs/stable/generated/torch.set_float32_matmul_precision.html#torch.set_float32_matmul_precision\n",
            "LOCAL_RANK: 0 - CUDA_VISIBLE_DEVICES: [0]\n",
            "\n",
            "  | Name    | Type       | Params\n",
            "---------------------------------------\n",
            "0 | model   | Sequential | 9     \n",
            "1 | loss_fn | MSELoss    | 0     \n",
            "---------------------------------------\n",
            "9         Trainable params\n",
            "0         Non-trainable params\n",
            "9         Total params\n",
            "0.000     Total estimated model params size (MB)\n"
          ]
        },
        {
          "name": "stdout",
          "output_type": "stream",
          "text": [
            "Sanity Checking DataLoader 0:   0%|          | 0/2 [00:00<?, ?it/s]"
          ]
        },
        {
          "name": "stderr",
          "output_type": "stream",
          "text": [
            "/home/z/tools/conda/envs/trading/lib/python3.8/site-packages/pytorch_lightning/trainer/connectors/data_connector.py:442: PossibleUserWarning: The dataloader, val_dataloader, does not have many workers which may be a bottleneck. Consider increasing the value of the `num_workers` argument` (try 12 which is the number of cpus on this machine) in the `DataLoader` init to improve performance.\n",
            "  rank_zero_warn(\n"
          ]
        },
        {
          "ename": "AttributeError",
          "evalue": "module 'pytorch_lightning' has no attribute 'EvalResult'",
          "output_type": "error",
          "traceback": [
            "\u001b[0;31m---------------------------------------------------------------------------\u001b[0m",
            "\u001b[0;31mAttributeError\u001b[0m                            Traceback (most recent call last)",
            "\u001b[0;32m/tmp/ipykernel_307530/1137628843.py\u001b[0m in \u001b[0;36m<module>\u001b[0;34m\u001b[0m\n\u001b[1;32m      5\u001b[0m \u001b[0mmodel\u001b[0m \u001b[0;34m=\u001b[0m \u001b[0mpredictor\u001b[0m\u001b[0;34m.\u001b[0m\u001b[0mmodel\u001b[0m\u001b[0;34m\u001b[0m\u001b[0;34m\u001b[0m\u001b[0m\n\u001b[1;32m      6\u001b[0m \u001b[0mtrainer\u001b[0m \u001b[0;34m=\u001b[0m \u001b[0mpl\u001b[0m\u001b[0;34m.\u001b[0m\u001b[0mTrainer\u001b[0m\u001b[0;34m(\u001b[0m\u001b[0mmax_epochs\u001b[0m\u001b[0;34m=\u001b[0m\u001b[0mmax_epochs\u001b[0m\u001b[0;34m)\u001b[0m\u001b[0;34m\u001b[0m\u001b[0;34m\u001b[0m\u001b[0m\n\u001b[0;32m----> 7\u001b[0;31m \u001b[0mtrainer\u001b[0m\u001b[0;34m.\u001b[0m\u001b[0mfit\u001b[0m\u001b[0;34m(\u001b[0m\u001b[0mpredictor\u001b[0m\u001b[0;34m,\u001b[0m \u001b[0mdl_train\u001b[0m\u001b[0;34m,\u001b[0m \u001b[0mdl_valid\u001b[0m\u001b[0;34m)\u001b[0m\u001b[0;34m\u001b[0m\u001b[0;34m\u001b[0m\u001b[0m\n\u001b[0m",
            "\u001b[0;32m~/tools/conda/envs/trading/lib/python3.8/site-packages/pytorch_lightning/trainer/trainer.py\u001b[0m in \u001b[0;36mfit\u001b[0;34m(self, model, train_dataloaders, val_dataloaders, datamodule, ckpt_path)\u001b[0m\n\u001b[1;32m    530\u001b[0m         \u001b[0mself\u001b[0m\u001b[0;34m.\u001b[0m\u001b[0mstrategy\u001b[0m\u001b[0;34m.\u001b[0m\u001b[0m_lightning_module\u001b[0m \u001b[0;34m=\u001b[0m \u001b[0mmodel\u001b[0m\u001b[0;34m\u001b[0m\u001b[0;34m\u001b[0m\u001b[0m\n\u001b[1;32m    531\u001b[0m         \u001b[0m_verify_strategy_supports_compile\u001b[0m\u001b[0;34m(\u001b[0m\u001b[0mmodel\u001b[0m\u001b[0;34m,\u001b[0m \u001b[0mself\u001b[0m\u001b[0;34m.\u001b[0m\u001b[0mstrategy\u001b[0m\u001b[0;34m)\u001b[0m\u001b[0;34m\u001b[0m\u001b[0;34m\u001b[0m\u001b[0m\n\u001b[0;32m--> 532\u001b[0;31m         call._call_and_handle_interrupt(\n\u001b[0m\u001b[1;32m    533\u001b[0m             \u001b[0mself\u001b[0m\u001b[0;34m,\u001b[0m \u001b[0mself\u001b[0m\u001b[0;34m.\u001b[0m\u001b[0m_fit_impl\u001b[0m\u001b[0;34m,\u001b[0m \u001b[0mmodel\u001b[0m\u001b[0;34m,\u001b[0m \u001b[0mtrain_dataloaders\u001b[0m\u001b[0;34m,\u001b[0m \u001b[0mval_dataloaders\u001b[0m\u001b[0;34m,\u001b[0m \u001b[0mdatamodule\u001b[0m\u001b[0;34m,\u001b[0m \u001b[0mckpt_path\u001b[0m\u001b[0;34m\u001b[0m\u001b[0;34m\u001b[0m\u001b[0m\n\u001b[1;32m    534\u001b[0m         )\n",
            "\u001b[0;32m~/tools/conda/envs/trading/lib/python3.8/site-packages/pytorch_lightning/trainer/call.py\u001b[0m in \u001b[0;36m_call_and_handle_interrupt\u001b[0;34m(trainer, trainer_fn, *args, **kwargs)\u001b[0m\n\u001b[1;32m     41\u001b[0m         \u001b[0;32mif\u001b[0m \u001b[0mtrainer\u001b[0m\u001b[0;34m.\u001b[0m\u001b[0mstrategy\u001b[0m\u001b[0;34m.\u001b[0m\u001b[0mlauncher\u001b[0m \u001b[0;32mis\u001b[0m \u001b[0;32mnot\u001b[0m \u001b[0;32mNone\u001b[0m\u001b[0;34m:\u001b[0m\u001b[0;34m\u001b[0m\u001b[0;34m\u001b[0m\u001b[0m\n\u001b[1;32m     42\u001b[0m             \u001b[0;32mreturn\u001b[0m \u001b[0mtrainer\u001b[0m\u001b[0;34m.\u001b[0m\u001b[0mstrategy\u001b[0m\u001b[0;34m.\u001b[0m\u001b[0mlauncher\u001b[0m\u001b[0;34m.\u001b[0m\u001b[0mlaunch\u001b[0m\u001b[0;34m(\u001b[0m\u001b[0mtrainer_fn\u001b[0m\u001b[0;34m,\u001b[0m \u001b[0;34m*\u001b[0m\u001b[0margs\u001b[0m\u001b[0;34m,\u001b[0m \u001b[0mtrainer\u001b[0m\u001b[0;34m=\u001b[0m\u001b[0mtrainer\u001b[0m\u001b[0;34m,\u001b[0m \u001b[0;34m**\u001b[0m\u001b[0mkwargs\u001b[0m\u001b[0;34m)\u001b[0m\u001b[0;34m\u001b[0m\u001b[0;34m\u001b[0m\u001b[0m\n\u001b[0;32m---> 43\u001b[0;31m         \u001b[0;32mreturn\u001b[0m \u001b[0mtrainer_fn\u001b[0m\u001b[0;34m(\u001b[0m\u001b[0;34m*\u001b[0m\u001b[0margs\u001b[0m\u001b[0;34m,\u001b[0m \u001b[0;34m**\u001b[0m\u001b[0mkwargs\u001b[0m\u001b[0;34m)\u001b[0m\u001b[0;34m\u001b[0m\u001b[0;34m\u001b[0m\u001b[0m\n\u001b[0m\u001b[1;32m     44\u001b[0m \u001b[0;34m\u001b[0m\u001b[0m\n\u001b[1;32m     45\u001b[0m     \u001b[0;32mexcept\u001b[0m \u001b[0m_TunerExitException\u001b[0m\u001b[0;34m:\u001b[0m\u001b[0;34m\u001b[0m\u001b[0;34m\u001b[0m\u001b[0m\n",
            "\u001b[0;32m~/tools/conda/envs/trading/lib/python3.8/site-packages/pytorch_lightning/trainer/trainer.py\u001b[0m in \u001b[0;36m_fit_impl\u001b[0;34m(self, model, train_dataloaders, val_dataloaders, datamodule, ckpt_path)\u001b[0m\n\u001b[1;32m    569\u001b[0m             \u001b[0mmodel_connected\u001b[0m\u001b[0;34m=\u001b[0m\u001b[0mself\u001b[0m\u001b[0;34m.\u001b[0m\u001b[0mlightning_module\u001b[0m \u001b[0;32mis\u001b[0m \u001b[0;32mnot\u001b[0m \u001b[0;32mNone\u001b[0m\u001b[0;34m,\u001b[0m\u001b[0;34m\u001b[0m\u001b[0;34m\u001b[0m\u001b[0m\n\u001b[1;32m    570\u001b[0m         )\n\u001b[0;32m--> 571\u001b[0;31m         \u001b[0mself\u001b[0m\u001b[0;34m.\u001b[0m\u001b[0m_run\u001b[0m\u001b[0;34m(\u001b[0m\u001b[0mmodel\u001b[0m\u001b[0;34m,\u001b[0m \u001b[0mckpt_path\u001b[0m\u001b[0;34m=\u001b[0m\u001b[0mckpt_path\u001b[0m\u001b[0;34m)\u001b[0m\u001b[0;34m\u001b[0m\u001b[0;34m\u001b[0m\u001b[0m\n\u001b[0m\u001b[1;32m    572\u001b[0m \u001b[0;34m\u001b[0m\u001b[0m\n\u001b[1;32m    573\u001b[0m         \u001b[0;32massert\u001b[0m \u001b[0mself\u001b[0m\u001b[0;34m.\u001b[0m\u001b[0mstate\u001b[0m\u001b[0;34m.\u001b[0m\u001b[0mstopped\u001b[0m\u001b[0;34m\u001b[0m\u001b[0;34m\u001b[0m\u001b[0m\n",
            "\u001b[0;32m~/tools/conda/envs/trading/lib/python3.8/site-packages/pytorch_lightning/trainer/trainer.py\u001b[0m in \u001b[0;36m_run\u001b[0;34m(self, model, ckpt_path)\u001b[0m\n\u001b[1;32m    978\u001b[0m         \u001b[0;31m# RUN THE TRAINER\u001b[0m\u001b[0;34m\u001b[0m\u001b[0;34m\u001b[0m\u001b[0;34m\u001b[0m\u001b[0m\n\u001b[1;32m    979\u001b[0m         \u001b[0;31m# ----------------------------\u001b[0m\u001b[0;34m\u001b[0m\u001b[0;34m\u001b[0m\u001b[0;34m\u001b[0m\u001b[0m\n\u001b[0;32m--> 980\u001b[0;31m         \u001b[0mresults\u001b[0m \u001b[0;34m=\u001b[0m \u001b[0mself\u001b[0m\u001b[0;34m.\u001b[0m\u001b[0m_run_stage\u001b[0m\u001b[0;34m(\u001b[0m\u001b[0;34m)\u001b[0m\u001b[0;34m\u001b[0m\u001b[0;34m\u001b[0m\u001b[0m\n\u001b[0m\u001b[1;32m    981\u001b[0m \u001b[0;34m\u001b[0m\u001b[0m\n\u001b[1;32m    982\u001b[0m         \u001b[0;31m# ----------------------------\u001b[0m\u001b[0;34m\u001b[0m\u001b[0;34m\u001b[0m\u001b[0;34m\u001b[0m\u001b[0m\n",
            "\u001b[0;32m~/tools/conda/envs/trading/lib/python3.8/site-packages/pytorch_lightning/trainer/trainer.py\u001b[0m in \u001b[0;36m_run_stage\u001b[0;34m(self)\u001b[0m\n\u001b[1;32m   1019\u001b[0m         \u001b[0;32mif\u001b[0m \u001b[0mself\u001b[0m\u001b[0;34m.\u001b[0m\u001b[0mtraining\u001b[0m\u001b[0;34m:\u001b[0m\u001b[0;34m\u001b[0m\u001b[0;34m\u001b[0m\u001b[0m\n\u001b[1;32m   1020\u001b[0m             \u001b[0;32mwith\u001b[0m \u001b[0misolate_rng\u001b[0m\u001b[0;34m(\u001b[0m\u001b[0;34m)\u001b[0m\u001b[0;34m:\u001b[0m\u001b[0;34m\u001b[0m\u001b[0;34m\u001b[0m\u001b[0m\n\u001b[0;32m-> 1021\u001b[0;31m                 \u001b[0mself\u001b[0m\u001b[0;34m.\u001b[0m\u001b[0m_run_sanity_check\u001b[0m\u001b[0;34m(\u001b[0m\u001b[0;34m)\u001b[0m\u001b[0;34m\u001b[0m\u001b[0;34m\u001b[0m\u001b[0m\n\u001b[0m\u001b[1;32m   1022\u001b[0m             \u001b[0;32mwith\u001b[0m \u001b[0mtorch\u001b[0m\u001b[0;34m.\u001b[0m\u001b[0mautograd\u001b[0m\u001b[0;34m.\u001b[0m\u001b[0mset_detect_anomaly\u001b[0m\u001b[0;34m(\u001b[0m\u001b[0mself\u001b[0m\u001b[0;34m.\u001b[0m\u001b[0m_detect_anomaly\u001b[0m\u001b[0;34m)\u001b[0m\u001b[0;34m:\u001b[0m\u001b[0;34m\u001b[0m\u001b[0;34m\u001b[0m\u001b[0m\n\u001b[1;32m   1023\u001b[0m                 \u001b[0mself\u001b[0m\u001b[0;34m.\u001b[0m\u001b[0mfit_loop\u001b[0m\u001b[0;34m.\u001b[0m\u001b[0mrun\u001b[0m\u001b[0;34m(\u001b[0m\u001b[0;34m)\u001b[0m\u001b[0;34m\u001b[0m\u001b[0;34m\u001b[0m\u001b[0m\n",
            "\u001b[0;32m~/tools/conda/envs/trading/lib/python3.8/site-packages/pytorch_lightning/trainer/trainer.py\u001b[0m in \u001b[0;36m_run_sanity_check\u001b[0;34m(self)\u001b[0m\n\u001b[1;32m   1048\u001b[0m \u001b[0;34m\u001b[0m\u001b[0m\n\u001b[1;32m   1049\u001b[0m             \u001b[0;31m# run eval step\u001b[0m\u001b[0;34m\u001b[0m\u001b[0;34m\u001b[0m\u001b[0;34m\u001b[0m\u001b[0m\n\u001b[0;32m-> 1050\u001b[0;31m             \u001b[0mval_loop\u001b[0m\u001b[0;34m.\u001b[0m\u001b[0mrun\u001b[0m\u001b[0;34m(\u001b[0m\u001b[0;34m)\u001b[0m\u001b[0;34m\u001b[0m\u001b[0;34m\u001b[0m\u001b[0m\n\u001b[0m\u001b[1;32m   1051\u001b[0m \u001b[0;34m\u001b[0m\u001b[0m\n\u001b[1;32m   1052\u001b[0m             \u001b[0mcall\u001b[0m\u001b[0;34m.\u001b[0m\u001b[0m_call_callback_hooks\u001b[0m\u001b[0;34m(\u001b[0m\u001b[0mself\u001b[0m\u001b[0;34m,\u001b[0m \u001b[0;34m\"on_sanity_check_end\"\u001b[0m\u001b[0;34m)\u001b[0m\u001b[0;34m\u001b[0m\u001b[0;34m\u001b[0m\u001b[0m\n",
            "\u001b[0;32m~/tools/conda/envs/trading/lib/python3.8/site-packages/pytorch_lightning/loops/utilities.py\u001b[0m in \u001b[0;36m_decorator\u001b[0;34m(self, *args, **kwargs)\u001b[0m\n\u001b[1;32m    179\u001b[0m             \u001b[0mcontext_manager\u001b[0m \u001b[0;34m=\u001b[0m \u001b[0mtorch\u001b[0m\u001b[0;34m.\u001b[0m\u001b[0mno_grad\u001b[0m\u001b[0;34m\u001b[0m\u001b[0;34m\u001b[0m\u001b[0m\n\u001b[1;32m    180\u001b[0m         \u001b[0;32mwith\u001b[0m \u001b[0mcontext_manager\u001b[0m\u001b[0;34m(\u001b[0m\u001b[0;34m)\u001b[0m\u001b[0;34m:\u001b[0m\u001b[0;34m\u001b[0m\u001b[0;34m\u001b[0m\u001b[0m\n\u001b[0;32m--> 181\u001b[0;31m             \u001b[0;32mreturn\u001b[0m \u001b[0mloop_run\u001b[0m\u001b[0;34m(\u001b[0m\u001b[0mself\u001b[0m\u001b[0;34m,\u001b[0m \u001b[0;34m*\u001b[0m\u001b[0margs\u001b[0m\u001b[0;34m,\u001b[0m \u001b[0;34m**\u001b[0m\u001b[0mkwargs\u001b[0m\u001b[0;34m)\u001b[0m\u001b[0;34m\u001b[0m\u001b[0;34m\u001b[0m\u001b[0m\n\u001b[0m\u001b[1;32m    182\u001b[0m \u001b[0;34m\u001b[0m\u001b[0m\n\u001b[1;32m    183\u001b[0m     \u001b[0;32mreturn\u001b[0m \u001b[0m_decorator\u001b[0m\u001b[0;34m\u001b[0m\u001b[0;34m\u001b[0m\u001b[0m\n",
            "\u001b[0;32m~/tools/conda/envs/trading/lib/python3.8/site-packages/pytorch_lightning/loops/evaluation_loop.py\u001b[0m in \u001b[0;36mrun\u001b[0;34m(self)\u001b[0m\n\u001b[1;32m    113\u001b[0m                 \u001b[0mprevious_dataloader_idx\u001b[0m \u001b[0;34m=\u001b[0m \u001b[0mdataloader_idx\u001b[0m\u001b[0;34m\u001b[0m\u001b[0;34m\u001b[0m\u001b[0m\n\u001b[1;32m    114\u001b[0m                 \u001b[0;31m# run step hooks\u001b[0m\u001b[0;34m\u001b[0m\u001b[0;34m\u001b[0m\u001b[0;34m\u001b[0m\u001b[0m\n\u001b[0;32m--> 115\u001b[0;31m                 \u001b[0mself\u001b[0m\u001b[0;34m.\u001b[0m\u001b[0m_evaluation_step\u001b[0m\u001b[0;34m(\u001b[0m\u001b[0mbatch\u001b[0m\u001b[0;34m,\u001b[0m \u001b[0mbatch_idx\u001b[0m\u001b[0;34m,\u001b[0m \u001b[0mdataloader_idx\u001b[0m\u001b[0;34m)\u001b[0m\u001b[0;34m\u001b[0m\u001b[0;34m\u001b[0m\u001b[0m\n\u001b[0m\u001b[1;32m    116\u001b[0m             \u001b[0;32mexcept\u001b[0m \u001b[0mStopIteration\u001b[0m\u001b[0;34m:\u001b[0m\u001b[0;34m\u001b[0m\u001b[0;34m\u001b[0m\u001b[0m\n\u001b[1;32m    117\u001b[0m                 \u001b[0;31m# this needs to wrap the `*_step` call too (not just `next`) for `dataloader_iter` support\u001b[0m\u001b[0;34m\u001b[0m\u001b[0;34m\u001b[0m\u001b[0;34m\u001b[0m\u001b[0m\n",
            "\u001b[0;32m~/tools/conda/envs/trading/lib/python3.8/site-packages/pytorch_lightning/loops/evaluation_loop.py\u001b[0m in \u001b[0;36m_evaluation_step\u001b[0;34m(self, batch, batch_idx, dataloader_idx)\u001b[0m\n\u001b[1;32m    374\u001b[0m \u001b[0;34m\u001b[0m\u001b[0m\n\u001b[1;32m    375\u001b[0m         \u001b[0mhook_name\u001b[0m \u001b[0;34m=\u001b[0m \u001b[0;34m\"test_step\"\u001b[0m \u001b[0;32mif\u001b[0m \u001b[0mtrainer\u001b[0m\u001b[0;34m.\u001b[0m\u001b[0mtesting\u001b[0m \u001b[0;32melse\u001b[0m \u001b[0;34m\"validation_step\"\u001b[0m\u001b[0;34m\u001b[0m\u001b[0;34m\u001b[0m\u001b[0m\n\u001b[0;32m--> 376\u001b[0;31m         \u001b[0moutput\u001b[0m \u001b[0;34m=\u001b[0m \u001b[0mcall\u001b[0m\u001b[0;34m.\u001b[0m\u001b[0m_call_strategy_hook\u001b[0m\u001b[0;34m(\u001b[0m\u001b[0mtrainer\u001b[0m\u001b[0;34m,\u001b[0m \u001b[0mhook_name\u001b[0m\u001b[0;34m,\u001b[0m \u001b[0;34m*\u001b[0m\u001b[0mstep_kwargs\u001b[0m\u001b[0;34m.\u001b[0m\u001b[0mvalues\u001b[0m\u001b[0;34m(\u001b[0m\u001b[0;34m)\u001b[0m\u001b[0;34m)\u001b[0m\u001b[0;34m\u001b[0m\u001b[0;34m\u001b[0m\u001b[0m\n\u001b[0m\u001b[1;32m    377\u001b[0m \u001b[0;34m\u001b[0m\u001b[0m\n\u001b[1;32m    378\u001b[0m         \u001b[0mself\u001b[0m\u001b[0;34m.\u001b[0m\u001b[0mbatch_progress\u001b[0m\u001b[0;34m.\u001b[0m\u001b[0mincrement_processed\u001b[0m\u001b[0;34m(\u001b[0m\u001b[0;34m)\u001b[0m\u001b[0;34m\u001b[0m\u001b[0;34m\u001b[0m\u001b[0m\n",
            "\u001b[0;32m~/tools/conda/envs/trading/lib/python3.8/site-packages/pytorch_lightning/trainer/call.py\u001b[0m in \u001b[0;36m_call_strategy_hook\u001b[0;34m(trainer, hook_name, *args, **kwargs)\u001b[0m\n\u001b[1;32m    292\u001b[0m \u001b[0;34m\u001b[0m\u001b[0m\n\u001b[1;32m    293\u001b[0m     \u001b[0;32mwith\u001b[0m \u001b[0mtrainer\u001b[0m\u001b[0;34m.\u001b[0m\u001b[0mprofiler\u001b[0m\u001b[0;34m.\u001b[0m\u001b[0mprofile\u001b[0m\u001b[0;34m(\u001b[0m\u001b[0;34mf\"[Strategy]{trainer.strategy.__class__.__name__}.{hook_name}\"\u001b[0m\u001b[0;34m)\u001b[0m\u001b[0;34m:\u001b[0m\u001b[0;34m\u001b[0m\u001b[0;34m\u001b[0m\u001b[0m\n\u001b[0;32m--> 294\u001b[0;31m         \u001b[0moutput\u001b[0m \u001b[0;34m=\u001b[0m \u001b[0mfn\u001b[0m\u001b[0;34m(\u001b[0m\u001b[0;34m*\u001b[0m\u001b[0margs\u001b[0m\u001b[0;34m,\u001b[0m \u001b[0;34m**\u001b[0m\u001b[0mkwargs\u001b[0m\u001b[0;34m)\u001b[0m\u001b[0;34m\u001b[0m\u001b[0;34m\u001b[0m\u001b[0m\n\u001b[0m\u001b[1;32m    295\u001b[0m \u001b[0;34m\u001b[0m\u001b[0m\n\u001b[1;32m    296\u001b[0m     \u001b[0;31m# restore current_fx when nested context\u001b[0m\u001b[0;34m\u001b[0m\u001b[0;34m\u001b[0m\u001b[0;34m\u001b[0m\u001b[0m\n",
            "\u001b[0;32m~/tools/conda/envs/trading/lib/python3.8/site-packages/pytorch_lightning/strategies/strategy.py\u001b[0m in \u001b[0;36mvalidation_step\u001b[0;34m(self, *args, **kwargs)\u001b[0m\n\u001b[1;32m    391\u001b[0m         \u001b[0;32mwith\u001b[0m \u001b[0mself\u001b[0m\u001b[0;34m.\u001b[0m\u001b[0mprecision_plugin\u001b[0m\u001b[0;34m.\u001b[0m\u001b[0mval_step_context\u001b[0m\u001b[0;34m(\u001b[0m\u001b[0;34m)\u001b[0m\u001b[0;34m:\u001b[0m\u001b[0;34m\u001b[0m\u001b[0;34m\u001b[0m\u001b[0m\n\u001b[1;32m    392\u001b[0m             \u001b[0;32massert\u001b[0m \u001b[0misinstance\u001b[0m\u001b[0;34m(\u001b[0m\u001b[0mself\u001b[0m\u001b[0;34m.\u001b[0m\u001b[0mmodel\u001b[0m\u001b[0;34m,\u001b[0m \u001b[0mValidationStep\u001b[0m\u001b[0;34m)\u001b[0m\u001b[0;34m\u001b[0m\u001b[0;34m\u001b[0m\u001b[0m\n\u001b[0;32m--> 393\u001b[0;31m             \u001b[0;32mreturn\u001b[0m \u001b[0mself\u001b[0m\u001b[0;34m.\u001b[0m\u001b[0mmodel\u001b[0m\u001b[0;34m.\u001b[0m\u001b[0mvalidation_step\u001b[0m\u001b[0;34m(\u001b[0m\u001b[0;34m*\u001b[0m\u001b[0margs\u001b[0m\u001b[0;34m,\u001b[0m \u001b[0;34m**\u001b[0m\u001b[0mkwargs\u001b[0m\u001b[0;34m)\u001b[0m\u001b[0;34m\u001b[0m\u001b[0;34m\u001b[0m\u001b[0m\n\u001b[0m\u001b[1;32m    394\u001b[0m \u001b[0;34m\u001b[0m\u001b[0m\n\u001b[1;32m    395\u001b[0m     \u001b[0;32mdef\u001b[0m \u001b[0mtest_step\u001b[0m\u001b[0;34m(\u001b[0m\u001b[0mself\u001b[0m\u001b[0;34m,\u001b[0m \u001b[0;34m*\u001b[0m\u001b[0margs\u001b[0m\u001b[0;34m:\u001b[0m \u001b[0mAny\u001b[0m\u001b[0;34m,\u001b[0m \u001b[0;34m**\u001b[0m\u001b[0mkwargs\u001b[0m\u001b[0;34m:\u001b[0m \u001b[0mAny\u001b[0m\u001b[0;34m)\u001b[0m \u001b[0;34m->\u001b[0m \u001b[0mOptional\u001b[0m\u001b[0;34m[\u001b[0m\u001b[0mSTEP_OUTPUT\u001b[0m\u001b[0;34m]\u001b[0m\u001b[0;34m:\u001b[0m\u001b[0;34m\u001b[0m\u001b[0;34m\u001b[0m\u001b[0m\n",
            "\u001b[0;32m/tmp/ipykernel_307530/1491183776.py\u001b[0m in \u001b[0;36mvalidation_step\u001b[0;34m(self, batch, batch_idx)\u001b[0m\n\u001b[1;32m     26\u001b[0m     \u001b[0my_pred\u001b[0m \u001b[0;34m=\u001b[0m \u001b[0mself\u001b[0m\u001b[0;34m.\u001b[0m\u001b[0mmodel\u001b[0m\u001b[0;34m(\u001b[0m\u001b[0mx\u001b[0m\u001b[0;34m)\u001b[0m\u001b[0;34m\u001b[0m\u001b[0;34m\u001b[0m\u001b[0m\n\u001b[1;32m     27\u001b[0m     \u001b[0mloss\u001b[0m \u001b[0;34m=\u001b[0m \u001b[0mself\u001b[0m\u001b[0;34m.\u001b[0m\u001b[0mloss_fn\u001b[0m\u001b[0;34m(\u001b[0m\u001b[0my_pred\u001b[0m\u001b[0;34m,\u001b[0m \u001b[0my\u001b[0m\u001b[0;34m)\u001b[0m\u001b[0;34m\u001b[0m\u001b[0;34m\u001b[0m\u001b[0m\n\u001b[0;32m---> 28\u001b[0;31m     \u001b[0mresult\u001b[0m \u001b[0;34m=\u001b[0m \u001b[0mpl\u001b[0m\u001b[0;34m.\u001b[0m\u001b[0mEvalResult\u001b[0m\u001b[0;34m(\u001b[0m\u001b[0mcheckpoint_on\u001b[0m\u001b[0;34m=\u001b[0m\u001b[0mloss\u001b[0m\u001b[0;34m)\u001b[0m\u001b[0;34m\u001b[0m\u001b[0;34m\u001b[0m\u001b[0m\n\u001b[0m\u001b[1;32m     29\u001b[0m     \u001b[0mresult\u001b[0m\u001b[0;34m.\u001b[0m\u001b[0mlog\u001b[0m\u001b[0;34m(\u001b[0m\u001b[0;34m'val_loss'\u001b[0m\u001b[0;34m,\u001b[0m \u001b[0mloss\u001b[0m\u001b[0;34m)\u001b[0m\u001b[0;34m\u001b[0m\u001b[0;34m\u001b[0m\u001b[0m\n\u001b[1;32m     30\u001b[0m     \u001b[0;32mreturn\u001b[0m \u001b[0mresult\u001b[0m\u001b[0;34m\u001b[0m\u001b[0;34m\u001b[0m\u001b[0m\n",
            "\u001b[0;31mAttributeError\u001b[0m: module 'pytorch_lightning' has no attribute 'EvalResult'"
          ]
        }
      ],
      "source": [
        "learning_rate = 0.001\n",
        "max_epochs = 20\n",
        "\n",
        "predictor = PricePredictor()\n",
        "model = predictor.model\n",
        "trainer = pl.Trainer(max_epochs=max_epochs)\n",
        "trainer.fit(predictor, dl_train, dl_valid)"
      ]
    },
    {
      "cell_type": "markdown",
      "metadata": {
        "id": "M9vxUEfYoibx"
      },
      "source": [
        "# Baseline Models"
      ]
    },
    {
      "cell_type": "code",
      "execution_count": null,
      "metadata": {
        "id": "Tgsn8xw3ojkM"
      },
      "outputs": [],
      "source": [
        "class MeanModel(th.nn.Module):\n",
        "    def forward(self, x):\n",
        "        return x.mean(dim=-1).unsqueeze(axis=1)"
      ]
    },
    {
      "cell_type": "markdown",
      "metadata": {
        "id": "iB_w0lVD4QEu"
      },
      "source": [
        "# Validation"
      ]
    },
    {
      "cell_type": "code",
      "execution_count": null,
      "metadata": {
        "colab": {
          "base_uri": "https://localhost:8080/",
          "height": 104
        },
        "id": "ABoCQ3hzTXBC",
        "outputId": "091de9ca-67bc-4926-9ae0-791863945af9"
      },
      "outputs": [
        {
          "data": {
            "text/plain": [
              "[Parameter containing:\n",
              " tensor([[ 0.0519,  0.3079,  0.1112,  0.1560,  0.1059,  0.2171, -0.0576,  0.1111]],\n",
              "        requires_grad=True),\n",
              " Parameter containing:\n",
              " tensor([-0.0597], requires_grad=True)]"
            ]
          },
          "execution_count": 22,
          "metadata": {
            "tags": []
          },
          "output_type": "execute_result"
        }
      ],
      "source": [
        "list(model.parameters())"
      ]
    },
    {
      "cell_type": "code",
      "execution_count": null,
      "metadata": {
        "id": "gdf3PstYTXBA"
      },
      "outputs": [],
      "source": [
        "def validate(model, ticker):\n",
        "  assert pred_win == 1\n",
        "  df = load_df(ticker, eval_date_range)\n",
        "  ds = StockSeqDataset(df)\n",
        "  dl = DataLoader(dataset=ds, batch_size=batch_size, shuffle=False)\n",
        "  for i, (x, y) in enumerate(dl):\n",
        "    start = batch_size * i + hist_win  # prediction is offset by hist_win\n",
        "    end = start + batch_size - 1  # slice end is inclusive\n",
        "    with th.no_grad():\n",
        "      y_pred = model(x)\n",
        "    y = y.cpu().numpy().squeeze()\n",
        "    y_pred = y_pred.cpu().numpy().squeeze()\n",
        "    #import pdb; pdb.set_trace()\n",
        "    df.loc[start:end, 'actual'] = y\n",
        "    df.loc[start:end, 'pred'] = y_pred\n",
        "  return df\n",
        "\n",
        "def plot(df, cols=['actual', 'pred']):\n",
        " df.plot(x='date', y=cols, figsize=(10, 8))"
      ]
    },
    {
      "cell_type": "code",
      "execution_count": null,
      "metadata": {
        "colab": {
          "base_uri": "https://localhost:8080/",
          "height": 465
        },
        "id": "PO_vZH-4TXBE",
        "outputId": "f87ac624-7296-4d07-e876-54fcd02f051b"
      },
      "outputs": [
        {
          "data": {
            "image/png": "[encoded data removed]",
            "text/plain": [
              "<Figure size 720x576 with 1 Axes>"
            ]
          },
          "metadata": {
            "tags": []
          },
          "output_type": "display_data"
        }
      ],
      "source": [
        "df_pred = validate(model, 'FB')\n",
        "plot(df_pred)"
      ]
    },
    {
      "cell_type": "code",
      "execution_count": null,
      "metadata": {
        "colab": {
          "base_uri": "https://localhost:8080/",
          "height": 465
        },
        "id": "UrYuKN81TXBJ",
        "outputId": "1870449b-6fba-4456-dec1-9e1381b041f2"
      },
      "outputs": [
        {
          "data": {
            "image/png": "[encoded data removed]",
            "text/plain": [
              "<Figure size 720x576 with 1 Axes>"
            ]
          },
          "metadata": {
            "tags": []
          },
          "output_type": "display_data"
        }
      ],
      "source": [
        "df_pred = validate(MeanModel(), 'FB')\n",
        "plot(df_pred)"
      ]
    },
    {
      "cell_type": "markdown",
      "metadata": {
        "id": "r_faUFu04Y4M"
      },
      "source": [
        "# Strategy"
      ]
    },
    {
      "cell_type": "code",
      "execution_count": null,
      "metadata": {
        "id": "DbgwUJ5-Aibs"
      },
      "outputs": [],
      "source": [
        "class SimpleStrategy:\n",
        "  \"\"\"Simple strategy\n",
        "\n",
        "  If day's predicted change is positive, hold through day.\n",
        "  If day's predicted change is negative, skip the day.\n",
        "  \"\"\"\n",
        "  def __init__(self, model):\n",
        "    self.model = model\n",
        "\n",
        "  def compute_hold(self, ticker):\n",
        "    df_pred = validate(self.model, ticker)\n",
        "    df_pred = df_pred.dropna(subset=('actual', 'pred'))\n",
        "    actual, pred = df_pred['actual'].values, df_pred['pred'].values\n",
        "    assert len(actual) == len(pred)\n",
        "    hold = pred[1:] > pred[:-1]\n",
        "    return pd.DataFrame.from_dict({\n",
        "        'actual': actual[1:],\n",
        "        'pred': pred[1:],\n",
        "        'hold': hold,\n",
        "    })\n",
        "\n",
        "def compute_returns(df):\n",
        "  df = df.copy()\n",
        "  df.loc[:, 'roi_actual'] = df.actual / df.actual.shift(1)\n",
        "  df.loc[:, 'roi_pred'] = df.pred / df.pred.shift(1)\n",
        "  return df\n",
        "\n",
        "def total_return(df, query=None):\n",
        "  if query:\n",
        "    df = df.query(query)\n",
        "  roi_actual = df.roi_actual.product()\n",
        "  roi_pred = df.roi_pred.product()\n",
        "  return roi_actual, roi_pred\n",
        "\n",
        "def evaluate_models(models, tickers):\n",
        "  strats = {name: SimpleStrategy(model) for name, model in models.items()}\n",
        "  df_actual = pd.DataFrame()\n",
        "  df_pred = pd.DataFrame()\n",
        "  \n",
        "  for ticker in tickers:\n",
        "    for strat_name, strat in strats.items():\n",
        "      df_hold = strat.compute_hold(ticker)\n",
        "      df_roi = compute_returns(df_hold)\n",
        "      \n",
        "      all = total_return(df_roi)\n",
        "      hold = total_return(df_roi, 'hold == True')\n",
        "      not_hold = total_return(df_roi, 'hold == False')\n",
        "\n",
        "      df_actual.loc[strat_name + ': all', ticker] = all[0]\n",
        "      df_actual.loc[strat_name + ': hold', ticker] = hold[0]\n",
        "      df_actual.loc[strat_name + ': !hold', ticker] = not_hold[0]\n",
        "      df_pred.loc[strat_name + ': all', ticker] = all[1]\n",
        "      df_pred.loc[strat_name + ': hold', ticker] = hold[1]\n",
        "      df_pred.loc[strat_name + ': !hold', ticker] = not_hold[1]\n",
        "  return df_actual, df_pred\n"
      ]
    },
    {
      "cell_type": "code",
      "execution_count": null,
      "metadata": {
        "colab": {
          "base_uri": "https://localhost:8080/",
          "height": 228
        },
        "id": "ydyvSoMS08W2",
        "outputId": "2bf53e57-3a08-47f9-d57f-fb5f5b05557c"
      },
      "outputs": [
        {
          "data": {
            "text/html": [
              "<div>\n",
              "<style scoped>\n",
              "    .dataframe tbody tr th:only-of-type {\n",
              "        vertical-align: middle;\n",
              "    }\n",
              "\n",
              "    .dataframe tbody tr th {\n",
              "        vertical-align: top;\n",
              "    }\n",
              "\n",
              "    .dataframe thead th {\n",
              "        text-align: right;\n",
              "    }\n",
              "</style>\n",
              "<table border=\"1\" class=\"dataframe\">\n",
              "  <thead>\n",
              "    <tr style=\"text-align: right;\">\n",
              "      <th></th>\n",
              "      <th>FB</th>\n",
              "      <th>GOOG</th>\n",
              "      <th>AAPL</th>\n",
              "      <th>MSFT</th>\n",
              "      <th>SPY</th>\n",
              "    </tr>\n",
              "  </thead>\n",
              "  <tbody>\n",
              "    <tr>\n",
              "      <th>mean: all</th>\n",
              "      <td>2.771776</td>\n",
              "      <td>2.671817</td>\n",
              "      <td>2.991909</td>\n",
              "      <td>3.862350</td>\n",
              "      <td>1.784635</td>\n",
              "    </tr>\n",
              "    <tr>\n",
              "      <th>mean: hold</th>\n",
              "      <td>1.189203</td>\n",
              "      <td>0.970577</td>\n",
              "      <td>1.898921</td>\n",
              "      <td>1.170471</td>\n",
              "      <td>1.270155</td>\n",
              "    </tr>\n",
              "    <tr>\n",
              "      <th>mean: !hold</th>\n",
              "      <td>2.330784</td>\n",
              "      <td>2.752813</td>\n",
              "      <td>1.575583</td>\n",
              "      <td>3.299825</td>\n",
              "      <td>1.405052</td>\n",
              "    </tr>\n",
              "    <tr>\n",
              "      <th>linear: all</th>\n",
              "      <td>2.771776</td>\n",
              "      <td>2.671817</td>\n",
              "      <td>2.991909</td>\n",
              "      <td>3.862350</td>\n",
              "      <td>1.784635</td>\n",
              "    </tr>\n",
              "    <tr>\n",
              "      <th>linear: hold</th>\n",
              "      <td>1.039551</td>\n",
              "      <td>1.271933</td>\n",
              "      <td>3.532091</td>\n",
              "      <td>1.932966</td>\n",
              "      <td>1.538530</td>\n",
              "    </tr>\n",
              "    <tr>\n",
              "      <th>linear: !hold</th>\n",
              "      <td>2.666319</td>\n",
              "      <td>2.100595</td>\n",
              "      <td>0.847065</td>\n",
              "      <td>1.998147</td>\n",
              "      <td>1.159961</td>\n",
              "    </tr>\n",
              "  </tbody>\n",
              "</table>\n",
              "</div>"
            ],
            "text/plain": [
              "                     FB      GOOG      AAPL      MSFT       SPY\n",
              "mean: all      2.771776  2.671817  2.991909  3.862350  1.784635\n",
              "mean: hold     1.189203  0.970577  1.898921  1.170471  1.270155\n",
              "mean: !hold    2.330784  2.752813  1.575583  3.299825  1.405052\n",
              "linear: all    2.771776  2.671817  2.991909  3.862350  1.784635\n",
              "linear: hold   1.039551  1.271933  3.532091  1.932966  1.538530\n",
              "linear: !hold  2.666319  2.100595  0.847065  1.998147  1.159961"
            ]
          },
          "execution_count": 27,
          "metadata": {
            "tags": []
          },
          "output_type": "execute_result"
        }
      ],
      "source": [
        "models = {\n",
        "    'mean': MeanModel(),\n",
        "    'linear': model,\n",
        "}\n",
        "tickers = [\n",
        "    'FB',\n",
        "    'GOOG',\n",
        "    'AAPL',\n",
        "    'MSFT',\n",
        "    'SPY',\n",
        "]\n",
        "\n",
        "df_actual, df_pred = evaluate_models(models, tickers)\n",
        "df_actual"
      ]
    }
  ],
  "metadata": {
    "colab": {
      "name": "single_stock_model_v2.ipynb",
      "provenance": [],
      "toc_visible": true
    },
    "kernelspec": {
      "display_name": "Python 3",
      "language": "python",
      "name": "python3"
    },
    "language_info": {
      "codemirror_mode": {
        "name": "ipython",
        "version": 3
      },
      "file_extension": ".py",
      "mimetype": "text/x-python",
      "name": "python",
      "nbconvert_exporter": "python",
      "pygments_lexer": "ipython3",
      "version": "3.8.12"
    }
  },
  "nbformat": 4,
  "nbformat_minor": 0
}
